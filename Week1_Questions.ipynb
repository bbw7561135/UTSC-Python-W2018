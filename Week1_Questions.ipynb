{
 "cells": [
  {
   "cell_type": "markdown",
   "metadata": {},
   "source": [
    "# UTSC Python for Physics: Week 1"
   ]
  },
  {
   "cell_type": "markdown",
   "metadata": {},
   "source": [
    "Try to work on these question that cover the material we talked about today. Try to finish as many questions as you can and ask questions! You will get better by practicing. Note that there are many ways to do each question correctly. I will post my solutions to the GitHub for these sessions this weekend."
   ]
  },
  {
   "cell_type": "markdown",
   "metadata": {},
   "source": [
    "Since many of these functions are already built into Numpy/Scipy, please do them using only pure Python features first (ie do not import anything). Once you are finished them, then import numpy and as a bonus, try to do the same operations using Numpy (we will talk about this next week).\n",
    "\n",
    "The functions are intended to build on one another so try and complete them in order."
   ]
  },
  {
   "cell_type": "markdown",
   "metadata": {},
   "source": [
    "## Question 1: Dot Product"
   ]
  },
  {
   "cell_type": "markdown",
   "metadata": {},
   "source": [
    "For this question, write a function that takes in two vectors as Python lists and returns a scalar representing the scalar (dot) product of the function. This should work for a vector that in general has $n$ dimensions. \n",
    "\n",
    "Hint: If you are having trouble, try coding it manually for 2 or 3 dimensions and then generalizing it with a loop.\n",
    "\n",
    "Below is the header of the function for you to get started:"
   ]
  },
  {
   "cell_type": "code",
   "execution_count": 19,
   "metadata": {},
   "outputs": [],
   "source": [
    "def dot_product(a, b):\n",
    "    \"\"\"\n",
    "    (list of float, list of float) -> float\n",
    "    Take the product a dot b and return\n",
    "    The value as a floating point.\n",
    "    \"\"\"\n",
    "    # Remove this line and \"pass\" and start coding\n",
    "    pass"
   ]
  },
  {
   "cell_type": "markdown",
   "metadata": {},
   "source": [
    "## Question 2: Multiply Matrix by Vector"
   ]
  },
  {
   "cell_type": "markdown",
   "metadata": {},
   "source": [
    "For this question, write a function that takes in a $n-$element column vector, a and a $m \\times n$ matrix, A and returns the result of Aa which should be an $m-$ element column vector. \n",
    "\n",
    "This should work in general for any n and m. You may use your dot_product function if you think it would be helpful. \n",
    "\n",
    "All vectors will be Python lists and matrices will be lists of lists ie:\n",
    "\n",
    "```\n",
    "a = [1, 2]    is a vector\n",
    "\n",
    "A = [[1, 2],     also written as A = [[1, 2], [3, 4]] is a matrix.\n",
    "     [3, 4]]\n",
    "```\n",
    "\n",
    "Fill in the function below."
   ]
  },
  {
   "cell_type": "code",
   "execution_count": 24,
   "metadata": {},
   "outputs": [],
   "source": [
    "def mat_vec(a, A):\n",
    "    \"\"\"\n",
    "    (list of float, list of list) -> list of float\n",
    "    Perform the operation Aa and return the resultant vector\n",
    "    as a Python list.\n",
    "    \"\"\"\n",
    "    # Remove this line and \"pass\" and insert your code\n",
    "    pass"
   ]
  },
  {
   "cell_type": "markdown",
   "metadata": {},
   "source": [
    "## Question 3: Transpose Matrix"
   ]
  },
  {
   "cell_type": "markdown",
   "metadata": {},
   "source": [
    "Write a function that takes in an $n \\times n$ matrix A as a list of lists, and return the transpose of the matrix. Here is an example:\n",
    "\n",
    "```\n",
    "A = [[1, 2],    -->    [[1, 3],\n",
    "     [3, 4]]            [2, 4]]\n",
    "```\n",
    "\n",
    "This function should work in general for any $n \\times n$ matrix and should not modify the original matrix.\n",
    "\n",
    "Fill in your code below:"
   ]
  },
  {
   "cell_type": "code",
   "execution_count": 3,
   "metadata": {},
   "outputs": [],
   "source": [
    "def transpose(A):\n",
    "    \"\"\"\n",
    "    (list of list) -> list of list\n",
    "    Given a matrix A, return a new matrix which is the transpose of A.\n",
    "    \"\"\"\n",
    "    # Remove this line and \"pass\" and insert your code\n",
    "    pass"
   ]
  },
  {
   "cell_type": "markdown",
   "metadata": {},
   "source": [
    "## Question 4: Matrix Multiply"
   ]
  },
  {
   "cell_type": "markdown",
   "metadata": {},
   "source": [
    "Write a function that takes in two $n \\times n$ matrices, A and B and returns an $n \\times n$ matrix that is the product, AB. \n",
    "\n",
    "For example:\n",
    "```\n",
    "A = [[1, 2],\n",
    "     [3, 4]]\n",
    "\n",
    "B = [[1, 3],\n",
    "     [2, 4]]\n",
    "\n",
    "Result:\n",
    "[[5, 11],\n",
    " [11, 25]]\n",
    "```\n",
    "\n",
    "Hint: Try to use the transpose function and the dot_product function to help make the code easier here.\n",
    "\n",
    "Fill in your code below:"
   ]
  },
  {
   "cell_type": "code",
   "execution_count": 4,
   "metadata": {},
   "outputs": [],
   "source": [
    "def matrix_multiply(A, B):\n",
    "    \"\"\"\n",
    "    (list of list, list of list) -> list of list\n",
    "    Given two matrices, return a new matrix that is\n",
    "    the product of the two, AB.\n",
    "    \"\"\"\n",
    "    # Remove this line and \"pass\" and insert your code\n",
    "    pass"
   ]
  },
  {
   "cell_type": "markdown",
   "metadata": {},
   "source": [
    "## Question 5: Product of Matrices multiplied by a Vector"
   ]
  },
  {
   "cell_type": "markdown",
   "metadata": {},
   "source": [
    "If you finished the above functions, this one should be easy. Take in two matrices, A and B, and a vector, a, and compute: (AB)a.\n",
    "\n",
    "Challenge: Complete this function in 1 line only."
   ]
  },
  {
   "cell_type": "code",
   "execution_count": null,
   "metadata": {},
   "outputs": [],
   "source": [
    "def matrix_2_vector(A, B, a):\n",
    "    \"\"\"\n",
    "    (list of list, list of list, list of float) -> list of list\n",
    "    \"\"\"\n",
    "    # Remove this line and \"pass\" and insert your code\n",
    "    pass"
   ]
  },
  {
   "cell_type": "markdown",
   "metadata": {},
   "source": [
    "**Bonus:** If you have extra time, think of other matrix or vector operations that could be useful and try to implement them. For example, try aA instead of Aa or try making a(AB)b. \n",
    "\n",
    "Next week we will learn how to use builtin numpy functions to do these operations but they are good examples of using for loops and functions and now you have some insight into how these problems are solved on a computer. "
   ]
  }
 ],
 "metadata": {
  "kernelspec": {
   "display_name": "Python 3",
   "language": "python",
   "name": "python3"
  },
  "language_info": {
   "codemirror_mode": {
    "name": "ipython",
    "version": 3
   },
   "file_extension": ".py",
   "mimetype": "text/x-python",
   "name": "python",
   "nbconvert_exporter": "python",
   "pygments_lexer": "ipython3",
   "version": "3.6.2"
  }
 },
 "nbformat": 4,
 "nbformat_minor": 2
}
