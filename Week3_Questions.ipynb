{
 "cells": [
  {
   "cell_type": "markdown",
   "metadata": {},
   "source": [
    "# Problem Set: Week 3"
   ]
  },
  {
   "cell_type": "code",
   "execution_count": 38,
   "metadata": {},
   "outputs": [],
   "source": [
    "# Start your problem set by importing the following if you haven't already\n",
    "import numpy as np\n",
    "import matplotlib.pyplot as plt\n",
    "from scipy.optimize import leastsq\n",
    "import random\n",
    "from math import factorial\n",
    "%matplotlib inline"
   ]
  },
  {
   "cell_type": "markdown",
   "metadata": {},
   "source": [
    "## Q1: Fitting Data\n",
    "\n",
    "Here I give you some data and I want you to come up with the best type of function to fit it and then fit a line. You can use the exact same method we used to fit the linear and quadratic functions, but this time you will have to decide what type of fit function you need to use first. \n",
    "\n",
    "If you do not know what type of function to fit try some. If you still don't know, ask me or your friends."
   ]
  },
  {
   "cell_type": "code",
   "execution_count": 35,
   "metadata": {},
   "outputs": [],
   "source": [
    "# The data\n",
    "x_dat = np.array([10.0, 11.25, 12.5, 13.75, 15.0])\n",
    "y_dat = np.array([22031., 76881., 268400., 936564., 3269003.])"
   ]
  },
  {
   "cell_type": "markdown",
   "metadata": {},
   "source": [
    "Here is a visualization of the data to help you:"
   ]
  },
  {
   "cell_type": "code",
   "execution_count": 36,
   "metadata": {},
   "outputs": [
    {
     "data": {
      "text/plain": [
       "<matplotlib.collections.PathCollection at 0x10c39ddd8>"
      ]
     },
     "execution_count": 36,
     "metadata": {},
     "output_type": "execute_result"
    },
    {
     "data": {
      "image/png": "[encoded data removed]",
      "text/plain": [
       "<matplotlib.figure.Figure at 0x10c2b9400>"
      ]
     },
     "metadata": {},
     "output_type": "display_data"
    }
   ],
   "source": [
    "fig, ax = plt.subplots()\n",
    "ax.scatter(x_dat, y_dat)"
   ]
  },
  {
   "cell_type": "code",
   "execution_count": 31,
   "metadata": {},
   "outputs": [],
   "source": [
    "# Write your fit_func and err_func here\n",
    "\n",
    "\n",
    "# Now use scipy to fit the line"
   ]
  },
  {
   "cell_type": "code",
   "execution_count": null,
   "metadata": {},
   "outputs": [],
   "source": [
    "# Now plot the data with the line\n"
   ]
  },
  {
   "cell_type": "markdown",
   "metadata": {},
   "source": [
    "## Q2: Second Derivatives"
   ]
  },
  {
   "cell_type": "markdown",
   "metadata": {},
   "source": [
    "We went through several methods to find the first derivative in class. Now I want you to code a function for the second derivative. I will give you the mathematical formula for it and then you need to code it. Mathematically, the second derivative is:\n",
    "\n",
    "$$ f^{(2)}(n) = \\lim_{h \\to 0} \\frac{1}{h^2} \\sum_{k = 0}^2 (-1)^{k+1} \\binom{2}{k} f(x + kh)$$\n",
    "\n",
    "Where \n",
    "\n",
    "$$\\binom{2}{k} = \\frac{2!}{(2 - k)! k!} = \\frac{2}{(2 - k)! k!}$$\n",
    "\n",
    "Convert the above to Python and test it with a function you know the second derivative of analytically.\n",
    "\n",
    "** Challenge: ** Complete for the $nth$ order derivative (repalce the 2s above with n).\n",
    "\n",
    "** Hint: ** Especially if you want to try this for nth order, make a seperate function to compute $\\binom{n}{k}$"
   ]
  },
  {
   "cell_type": "markdown",
   "metadata": {},
   "source": [
    "## Q3: Analyzing the Integral Methods\n",
    "\n",
    "Repeat the error analysis I did for the derivative methods for the integral methods. Test how each one scales and create plots to show what you find. Use a function you know the integral of to determine the accuracy of the solutions. \n",
    "\n",
    "Note that the integral methods do not have as clear a scaling as far as order is concerned so just plot the results and compare qualitatively. You will not be able to determine a precise order as we did for the derivative methods.\n",
    "\n",
    "Here are the integral methods for your reference."
   ]
  },
  {
   "cell_type": "code",
   "execution_count": 37,
   "metadata": {},
   "outputs": [],
   "source": [
    "def rectangle(F, a, b, N):\n",
    "    size = abs(b - a) / N\n",
    "    \n",
    "    tot = 0.\n",
    "    \n",
    "    for i in range(N):\n",
    "        tot += F(a + size*i) * size\n",
    "        \n",
    "    return tot\n",
    "\n",
    "\n",
    "def trapezoid(F, a, b, N):\n",
    "    size = abs(b - a) / N\n",
    "    \n",
    "    tot = 0.\n",
    "    \n",
    "    for i in range(N):\n",
    "        f1 = F(a + size * i)\n",
    "        f2 = F(a + size * (i + 1))\n",
    "        \n",
    "        tot += size * ((f1 + f2) / 2)\n",
    "        \n",
    "    return tot"
   ]
  },
  {
   "cell_type": "markdown",
   "metadata": {},
   "source": [
    "## Q4: Volume of a Sphere\n",
    "\n",
    "Apply the Monte Carlo method in the same way I did for a circle but this time in 3D. The goal is to numerically determine the volume of a sphere. You can use a unit sphere for this and then you know that the volume should be: $V = \\frac{4}{3} \\pi$.\n",
    "\n",
    "** Challenge: ** Make this function for general such that it can work for any $n-sphere$ of radius 1. It should then take in both the number of points, $N$ as we did for the circle and also the dimension $n$. Test this works for the case of $n = 3$ and you can look up higher order solution online if you want to know if it is correct."
   ]
  }
 ],
 "metadata": {
  "kernelspec": {
   "display_name": "Python 3",
   "language": "python",
   "name": "python3"
  },
  "language_info": {
   "codemirror_mode": {
    "name": "ipython",
    "version": 3
   },
   "file_extension": ".py",
   "mimetype": "text/x-python",
   "name": "python",
   "nbconvert_exporter": "python",
   "pygments_lexer": "ipython3",
   "version": "3.6.2"
  }
 },
 "nbformat": 4,
 "nbformat_minor": 2
}
