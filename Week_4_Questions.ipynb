{
 "cells": [
  {
   "cell_type": "markdown",
   "metadata": {},
   "source": [
    "# Problem Set: Week 4"
   ]
  },
  {
   "cell_type": "code",
   "execution_count": 53,
   "metadata": {},
   "outputs": [],
   "source": [
    "import numpy as np\n",
    "import matplotlib.pyplot as plt\n",
    "from scipy.optimize import leastsq\n",
    "import pandas as pd\n",
    "from astropy import constants as cn, units as un\n",
    "import sympy as sp\n",
    "sp.init_printing()\n",
    "%matplotlib inline"
   ]
  },
  {
   "cell_type": "markdown",
   "metadata": {},
   "source": [
    "### Q1. Estimating the height reached by a rocket\n",
    "\n",
    "The height above the groud of a rocket are as follows:\n",
    "\n",
    "0s -> 0.0 m\n",
    "\n",
    "0.05s -> 0.1m\n",
    "\n",
    "0.10s -> 0.42m\n",
    "\n",
    "0.15s -> 0.89m\n",
    "\n",
    "0.20s -> 1.55m\n",
    "\n",
    "0.25s -> 2.32m\n",
    "\n",
    "Your task is as follows. Use Astropy units for all steps and check that you get the desired dimensions.\n",
    "\n",
    "1. Use a finite differences approach to estimate the acceleration of the object averaged over the first 0.25s.\n",
    "2. From the acceleration, use kinematics to calculate the height after 0.25s assuming it started at $h = 0m$, $v = 0m/s$ and a is constant as you found above.\n",
    "3. Now assume that the rocket shuts off after 0.25s. Calculate how high it would get given that it is now only experiencing acceleration from gravity.\n",
    "4. Check that the units from the calculations performed with Astropy match waht you expect.\n",
    "\n",
    "Hint: Put the numbers into an np array for the heights to do the finite differences. The time difference is the same between each data point (0.05s) so you can just store this rather than needing a list of all the times."
   ]
  },
  {
   "cell_type": "markdown",
   "metadata": {},
   "source": [
    "### Q2. Sorting a matrix by a column\n",
    "\n",
    "I showed you how you can sort a matrix by a column using the tricks built in to numpy. Now I want you to implement this yourself using loops. For example:\n",
    "\n",
    "```Python\n",
    "A = [[3, 5, 7],\n",
    "     [1, 6, 2],\n",
    "     [5, 1, 8]]\n",
    "```\n",
    "\n",
    "Should become (when sorted by column 0):\n",
    "\n",
    "```Python\n",
    "A = [[1, 6, 2],\n",
    "     [3, 5, 7],\n",
    "     [5, 1, 8]]\n",
    "```\n",
    "\n",
    "Your method should be able to sort the matrix by any column and should work in general for any $n \\times m$ matrix. Here is the function header you should use.\n",
    "\n",
    "Try to do it without creating a copy of the data."
   ]
  },
  {
   "cell_type": "code",
   "execution_count": 83,
   "metadata": {},
   "outputs": [],
   "source": [
    "def sort_matrix(matrix, col):\n",
    "    \"\"\"\n",
    "    Sort the matrix 'matrix' by column 'col'.\n",
    "    \"\"\""
   ]
  },
  {
   "cell_type": "markdown",
   "metadata": {},
   "source": [
    "### Q3. Plotting data from a 2D array with errorbars and finding best fit line and error\n",
    "\n",
    "For this question, I will give you a matrix with 3 columns. Column 1 is the x data, column 2 is the y data and column 3 is the y errors. Here is the data:"
   ]
  },
  {
   "cell_type": "code",
   "execution_count": 111,
   "metadata": {},
   "outputs": [],
   "source": [
    "data = np.array([[0.11, 0.36, 0.2],\n",
    "                 [0.24, 0.61, 0.3],\n",
    "                 [0.39, 1.18, 0.3],\n",
    "                 [0.57, 1.30, 0.35],\n",
    "                 [0.87, 1.62, 0.3],\n",
    "                 [1.02, 2.34, 0.4]])"
   ]
  },
  {
   "cell_type": "markdown",
   "metadata": {},
   "source": [
    "Now performs the following tasks with the data:\n",
    "\n",
    "1. Plot the data with errorbars to see what type of line you should fit.\n",
    "2. Fit the function and plot the best fit line.\n",
    "3. Calculate the RMS error on this best fit line.\n",
    "4. If you think there are any outliers, try fitting a new line without these point(s). Plot this new line along with the old one. What does this tell you about the effectiveness/usefulness of the values from the best fit line?"
   ]
  },
  {
   "cell_type": "markdown",
   "metadata": {},
   "source": [
    "### Q4. Testing integration methods with more complicated function\n",
    "\n",
    "Implement one of the integration methods from last week yourself (sum of rectangles or sum of trapezoids). If you are feeling particularly ambitious then you can look up Simpson's rule (a higher order method that is more accurate) and implement that instead but it will likely be much harder. \n",
    "\n",
    "Once you have a working method for numerical integration (test it with simple function like last time) try testing it with something more complicated. Think of a complicated function (something that you can't integrate easily by hand but that is analytically integrable) and try using your numerical integrator with it. \n",
    "\n",
    "Then integrate the funtion with Sympy. See how close your value from the numerical integrator is and how it changes as you change $h$.\n",
    "\n",
    "Based on this does it make sense to use a numerical integrator if a function is analytically integrable?"
   ]
  },
  {
   "cell_type": "markdown",
   "metadata": {},
   "source": [
    "## Some extra practice questions for basic Python skills"
   ]
  },
  {
   "cell_type": "markdown",
   "metadata": {},
   "source": [
    "## Q1. Writing a function to compute the distance between two n-vectors\n",
    "\n",
    "Given two points in n-dimensional space, compute the distance between them and return it as a floating point number. The Vectors are given as Python lists (you cannot use numpy features)."
   ]
  },
  {
   "cell_type": "code",
   "execution_count": 133,
   "metadata": {},
   "outputs": [],
   "source": [
    "def distance(r1, r2):\n",
    "    \"\"\"\n",
    "    Return the distance between r1 and r2:\n",
    "    \n",
    "    ie for 2D case:\n",
    "    \n",
    "    r1 = [1.0, 2.0]\n",
    "    r2 = [0.0, 1.0]\n",
    "    dist = sqrt(1^2 + (2-1)^2)\n",
    "    \"\"\""
   ]
  },
  {
   "cell_type": "markdown",
   "metadata": {},
   "source": [
    "## Q2. Searching a Matrix\n",
    "\n",
    "Given a matrix and a number, find the number in the matrix and return the index of it as a 2 item list. If the item is not in the matrix, return -1."
   ]
  },
  {
   "cell_type": "code",
   "execution_count": 134,
   "metadata": {},
   "outputs": [],
   "source": [
    "def mat_find(matrix, number):\n",
    "    \"\"\"\n",
    "    Find the position of number and return it. If it is not in the matrix, return -1.\n",
    "    \n",
    "    Example:\n",
    "    matrix = [[2, 4],\n",
    "              [3, 5]]\n",
    "    mat_find(matrix, 3)\n",
    "    \n",
    "    Should return:\n",
    "    [1, 0]\n",
    "    \"\"\""
   ]
  }
 ],
 "metadata": {
  "kernelspec": {
   "display_name": "Python 3",
   "language": "python",
   "name": "python3"
  },
  "language_info": {
   "codemirror_mode": {
    "name": "ipython",
    "version": 3
   },
   "file_extension": ".py",
   "mimetype": "text/x-python",
   "name": "python",
   "nbconvert_exporter": "python",
   "pygments_lexer": "ipython3",
   "version": "3.6.2"
  }
 },
 "nbformat": 4,
 "nbformat_minor": 2
}
