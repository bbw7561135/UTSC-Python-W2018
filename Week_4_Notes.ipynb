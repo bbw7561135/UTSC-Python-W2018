{
 "cells": [
  {
   "cell_type": "code",
   "execution_count": 531,
   "metadata": {},
   "outputs": [],
   "source": [
    "import numpy as np\n",
    "import matplotlib.pyplot as plt\n",
    "from scipy.optimize import leastsq\n",
    "import pandas as pd\n",
    "from astropy import constants as cn, units as un\n",
    "import sympy as sp\n",
    "sp.init_printing()\n",
    "%matplotlib inline"
   ]
  },
  {
   "cell_type": "markdown",
   "metadata": {},
   "source": [
    "# Week 4 Notes\n",
    "### More advanced function fitting, useful tricks for physics calculations"
   ]
  },
  {
   "cell_type": "markdown",
   "metadata": {},
   "source": [
    "## Fitting"
   ]
  },
  {
   "cell_type": "markdown",
   "metadata": {},
   "source": [
    "Last week we saw how to fit some basic functions using the scipy leastsq fit. In the problem set you got to fit something a bit more complicated. We will still use a least squares fit, since more advanced fitting methods such as Markov Chain Monte Carlo methods are beyond the scope of this seminar, but I hope to show you how to effectively use the scipy model as well as what it's limitations are. "
   ]
  },
  {
   "cell_type": "markdown",
   "metadata": {},
   "source": [
    "First we need to read the data from the data file. For this we will use pandas, a scientific library for reading data from various different file formats. Today we need to read data from a CSV file."
   ]
  },
  {
   "cell_type": "code",
   "execution_count": 528,
   "metadata": {},
   "outputs": [
    {
     "data": {
      "text/html": [
       "<div>\n",
       "<style>\n",
       "    .dataframe thead tr:only-child th {\n",
       "        text-align: right;\n",
       "    }\n",
       "\n",
       "    .dataframe thead th {\n",
       "        text-align: left;\n",
       "    }\n",
       "\n",
       "    .dataframe tbody tr th {\n",
       "        vertical-align: top;\n",
       "    }\n",
       "</style>\n",
       "<table border=\"1\" class=\"dataframe\">\n",
       "  <thead>\n",
       "    <tr style=\"text-align: right;\">\n",
       "      <th></th>\n",
       "      <th>x</th>\n",
       "      <th>y</th>\n",
       "      <th>yerr</th>\n",
       "    </tr>\n",
       "  </thead>\n",
       "  <tbody>\n",
       "    <tr>\n",
       "      <th>0</th>\n",
       "      <td>0.000000</td>\n",
       "      <td>-0.057109</td>\n",
       "      <td>0.002000</td>\n",
       "    </tr>\n",
       "    <tr>\n",
       "      <th>1</th>\n",
       "      <td>0.161107</td>\n",
       "      <td>1.083873</td>\n",
       "      <td>0.204187</td>\n",
       "    </tr>\n",
       "    <tr>\n",
       "      <th>2</th>\n",
       "      <td>0.322215</td>\n",
       "      <td>1.406260</td>\n",
       "      <td>0.290397</td>\n",
       "    </tr>\n",
       "    <tr>\n",
       "      <th>3</th>\n",
       "      <td>0.483322</td>\n",
       "      <td>1.187659</td>\n",
       "      <td>0.229809</td>\n",
       "    </tr>\n",
       "    <tr>\n",
       "      <th>4</th>\n",
       "      <td>0.644429</td>\n",
       "      <td>0.252675</td>\n",
       "      <td>0.065119</td>\n",
       "    </tr>\n",
       "  </tbody>\n",
       "</table>\n",
       "</div>"
      ],
      "text/plain": [
       "          x         y      yerr\n",
       "0  0.000000 -0.057109  0.002000\n",
       "1  0.161107  1.083873  0.204187\n",
       "2  0.322215  1.406260  0.290397\n",
       "3  0.483322  1.187659  0.229809\n",
       "4  0.644429  0.252675  0.065119"
      ]
     },
     "execution_count": 528,
     "metadata": {},
     "output_type": "execute_result"
    }
   ],
   "source": [
    "df = pd.read_csv(\"Week_4_data.csv\")\n",
    "df.head()"
   ]
  },
  {
   "cell_type": "code",
   "execution_count": 529,
   "metadata": {},
   "outputs": [],
   "source": [
    "x = df['x']\n",
    "y = df['y']\n",
    "y_err = df['yerr']"
   ]
  },
  {
   "cell_type": "code",
   "execution_count": 530,
   "metadata": {},
   "outputs": [
    {
     "data": {
      "text/plain": [
       "array([ 1.61869526e+00, -3.06079500e-01,  4.49709965e+00,  2.80422445e-03])"
      ]
     },
     "execution_count": 530,
     "metadata": {},
     "output_type": "execute_result"
    },
    {
     "data": {
      "image/png": "[encoded data removed]",
      "text/plain": [
       "<matplotlib.figure.Figure at 0x116538828>"
      ]
     },
     "metadata": {},
     "output_type": "display_data"
    }
   ],
   "source": [
    "def fit_func(p, x):\n",
    "    return p[0] * np.exp(p[1] * x) * np.sin(p[2] * x) + p[3]\n",
    "\n",
    "def err_func(p, x, y):\n",
    "    return y - fit_func(p, x)\n",
    "\n",
    "# First try with [1., 1., 1., 1.] -> It is not very good\n",
    "p0 = [1.5, 0.5, 5., 0.]\n",
    "p1, success = leastsq(err_func, p0[:], args=(x, y))\n",
    "\n",
    "x_ft = np.linspace(0, 2 * np.pi, 100)\n",
    "fig, ax = plt.subplots()\n",
    "ax.plot(x_ft, fit_func(p1, x_ft))\n",
    "ax.errorbar(x, y, yerr=y_err, fmt='.', color='k')\n",
    "p1"
   ]
  },
  {
   "cell_type": "markdown",
   "metadata": {},
   "source": [
    "Now let's see how we can analyze the error on this. Our error function allows us to easily do this.\n",
    "\n",
    "There are two different error measurements we can look at. The first one is the average of the sum of the error itself:\n",
    "\n",
    "$$ \\frac{1}{n} \\sum_{i = 1}^n \\text{e}_i $$\n",
    "\n",
    "The second is the average of the square of the errors, or the RMS error:\n",
    "\n",
    "$$ \\sqrt{\\frac{1}{n} \\sum_{i = 1}^n \\text{e}_i^2} $$\n",
    "\n",
    "Here $e_i = y_i - f(x_i)$ where $f(x_i)$ where the data point is $(x_i, y_i)$ and $f(x_i)$ is the result of the fit function evaluated at the $x$ value associated with $y_i$. We have already coded this in the form of our error function.\n",
    "\n",
    "Usually, the latter is the more useful one to cite and it is this error that is minimized in the least squares fit. But let's calculate both anyways."
   ]
  },
  {
   "cell_type": "code",
   "execution_count": 356,
   "metadata": {},
   "outputs": [],
   "source": [
    "# Cmpute the error (with a for loop)\n",
    "def calc_err(err_func, p, x, y):\n",
    "    err = 0.\n",
    "    err2 = 0.\n",
    "\n",
    "    for i in range(len(x)):\n",
    "        err += err_func(p1, x[i], y[i])\n",
    "        err2 += err_func(p1, x[i], y[i]) ** 2\n",
    "    \n",
    "    err = err/len(x)\n",
    "    rms_err = np.sqrt(err2/len(x))\n",
    "    \n",
    "    return err, rms_err"
   ]
  },
  {
   "cell_type": "code",
   "execution_count": 357,
   "metadata": {},
   "outputs": [],
   "source": [
    "err, rms = calc_err(err_func, p1, x, y)"
   ]
  },
  {
   "cell_type": "code",
   "execution_count": 358,
   "metadata": {},
   "outputs": [
    {
     "data": {
      "image/png": "[encoded data removed]",
      "text/latex": [
       "$$\\left ( -1.0373509063896224e-09, \\quad 0.04209018498050422\\right )$$"
      ],
      "text/plain": [
       "(-1.0373509063896224e-09, 0.04209018498050422)"
      ]
     },
     "execution_count": 358,
     "metadata": {},
     "output_type": "execute_result"
    }
   ],
   "source": [
    "# The values of the errors\n",
    "err, rms"
   ]
  },
  {
   "cell_type": "code",
   "execution_count": 359,
   "metadata": {},
   "outputs": [
    {
     "data": {
      "image/png": "[encoded data removed]",
      "text/latex": [
       "$$4.209018498050423$$"
      ],
      "text/plain": [
       "4.209018498050423"
      ]
     },
     "execution_count": 359,
     "metadata": {},
     "output_type": "execute_result"
    }
   ],
   "source": [
    "# The percent RMS error\n",
    "rms * 100"
   ]
  },
  {
   "cell_type": "code",
   "execution_count": 360,
   "metadata": {},
   "outputs": [
    {
     "data": {
      "image/png": "[encoded data removed]",
      "text/latex": [
       "$$0.04209018498050423$$"
      ],
      "text/plain": [
       "0.04209018498050423"
      ]
     },
     "execution_count": 360,
     "metadata": {},
     "output_type": "execute_result"
    }
   ],
   "source": [
    "# Cleaner way to compute the error using numpy features. Same RMS error as we did above.\n",
    "err = err_func(p1, x, y)\n",
    "np.sqrt(np.sum(err**2) / len(err))"
   ]
  },
  {
   "cell_type": "markdown",
   "metadata": {},
   "source": [
    "In general, least square fits are great for data that can be fit by function that are either monatomic or polynomial. They are also pretty good at simple sinusoidal functions but more complicated functions such as the damped oscillator above require some intuition about what the values should be.\n",
    "\n",
    "If you take a course on advanced scientific computing or read any textbook on the topic, you will find more robust fitting methods that may be better suited to this problem."
   ]
  },
  {
   "cell_type": "markdown",
   "metadata": {},
   "source": [
    "## Useful Features for Physics Calculations"
   ]
  },
  {
   "cell_type": "markdown",
   "metadata": {},
   "source": [
    "We will use Astropy module to perform calculations with units and constants."
   ]
  },
  {
   "cell_type": "markdown",
   "metadata": {},
   "source": [
    "The first useful feature is constants. Most physical constants can be used and converted between units. We will look at unit conversions shortly, but first I will just show you a couple constans "
   ]
  },
  {
   "cell_type": "code",
   "execution_count": 524,
   "metadata": {},
   "outputs": [
    {
     "data": {
      "text/plain": [
       "['Constant',\n",
       " 'EMConstant',\n",
       " 'G',\n",
       " 'GM_earth',\n",
       " 'GM_jup',\n",
       " 'GM_sun',\n",
       " 'L_bol0',\n",
       " 'L_sun',\n",
       " 'M_earth',\n",
       " 'M_jup',\n",
       " 'M_sun',\n",
       " 'N_A',\n",
       " 'R',\n",
       " 'R_earth',\n",
       " 'R_jup',\n",
       " 'R_sun',\n",
       " 'Ryd',\n",
       " '__builtins__',\n",
       " '__cached__',\n",
       " '__doc__',\n",
       " '__file__',\n",
       " '__loader__',\n",
       " '__name__',\n",
       " '__package__',\n",
       " '__path__',\n",
       " '__spec__',\n",
       " 'a0',\n",
       " 'alpha',\n",
       " 'atm',\n",
       " 'au',\n",
       " 'b_wien',\n",
       " 'c',\n",
       " 'cgs',\n",
       " 'codata2014',\n",
       " 'constant',\n",
       " 'e',\n",
       " 'eps0',\n",
       " 'g0',\n",
       " 'h',\n",
       " 'hbar',\n",
       " 'iau2015',\n",
       " 'k_B',\n",
       " 'kpc',\n",
       " 'm_e',\n",
       " 'm_n',\n",
       " 'm_p',\n",
       " 'mu0',\n",
       " 'muB',\n",
       " 'pc',\n",
       " 'set_enabled_constants',\n",
       " 'si',\n",
       " 'sigma_T',\n",
       " 'sigma_sb',\n",
       " 'u',\n",
       " 'utils']"
      ]
     },
     "execution_count": 524,
     "metadata": {},
     "output_type": "execute_result"
    }
   ],
   "source": [
    "dir(cn)"
   ]
  },
  {
   "cell_type": "code",
   "execution_count": 525,
   "metadata": {},
   "outputs": [
    {
     "data": {
      "text/latex": [
       "$1.0545718 \\times 10^{-34} \\; \\mathrm{J\\,s}$"
      ],
      "text/plain": [
       "<<class 'astropy.constants.codata2014.CODATA2014'> name='Reduced Planck constant' value=1.0545718e-34 uncertainty=1.3e-42 unit='J s' reference='CODATA 2014'>"
      ]
     },
     "execution_count": 525,
     "metadata": {},
     "output_type": "execute_result"
    }
   ],
   "source": [
    "cn.hbar"
   ]
  },
  {
   "cell_type": "code",
   "execution_count": 169,
   "metadata": {},
   "outputs": [
    {
     "data": {
      "text/latex": [
       "$6.67408 \\times 10^{-11} \\; \\mathrm{\\frac{m^{3}}{kg\\,s^{2}}}$"
      ],
      "text/plain": [
       "<<class 'astropy.constants.codata2014.CODATA2014'> name='Gravitational constant' value=6.67408e-11 uncertainty=3.1e-15 unit='m3 / (kg s2)' reference='CODATA 2014'>"
      ]
     },
     "execution_count": 169,
     "metadata": {},
     "output_type": "execute_result"
    }
   ],
   "source": [
    "cn.G"
   ]
  },
  {
   "cell_type": "markdown",
   "metadata": {},
   "source": [
    "We can also create quantities that have units. For example, let's define two lines, one with length 3.2m and the other 43.7cm."
   ]
  },
  {
   "cell_type": "code",
   "execution_count": 173,
   "metadata": {},
   "outputs": [
    {
     "data": {
      "text/latex": [
       "$3.2 \\; \\mathrm{m}$"
      ],
      "text/plain": [
       "<Quantity 3.2 m>"
      ]
     },
     "execution_count": 173,
     "metadata": {},
     "output_type": "execute_result"
    }
   ],
   "source": [
    "l1 = 3.2 * un.m\n",
    "l1"
   ]
  },
  {
   "cell_type": "code",
   "execution_count": 175,
   "metadata": {},
   "outputs": [
    {
     "data": {
      "text/latex": [
       "$43.7 \\; \\mathrm{cm}$"
      ],
      "text/plain": [
       "<Quantity 43.7 cm>"
      ]
     },
     "execution_count": 175,
     "metadata": {},
     "output_type": "execute_result"
    }
   ],
   "source": [
    "l2 = 43.7 * un.cm\n",
    "l2"
   ]
  },
  {
   "cell_type": "markdown",
   "metadata": {},
   "source": [
    "Now we can add them together and the units will still be correct."
   ]
  },
  {
   "cell_type": "code",
   "execution_count": 183,
   "metadata": {},
   "outputs": [
    {
     "data": {
      "text/latex": [
       "$3.637 \\; \\mathrm{m}$"
      ],
      "text/plain": [
       "<Quantity 3.637 m>"
      ]
     },
     "execution_count": 183,
     "metadata": {},
     "output_type": "execute_result"
    }
   ],
   "source": [
    "l1 + l2"
   ]
  },
  {
   "cell_type": "markdown",
   "metadata": {},
   "source": [
    "No conversion necessary on our part and we clearly see what the units are. Now let's say we want to convert the units. For example, let's convert l2 to m."
   ]
  },
  {
   "cell_type": "code",
   "execution_count": 184,
   "metadata": {},
   "outputs": [
    {
     "data": {
      "text/latex": [
       "$0.437 \\; \\mathrm{m}$"
      ],
      "text/plain": [
       "<Quantity 0.437 m>"
      ]
     },
     "execution_count": 184,
     "metadata": {},
     "output_type": "execute_result"
    }
   ],
   "source": [
    "l2 = l2.to(un.m)\n",
    "l2"
   ]
  },
  {
   "cell_type": "markdown",
   "metadata": {},
   "source": [
    "We can also do more complicted unit conversion using strings. "
   ]
  },
  {
   "cell_type": "code",
   "execution_count": 191,
   "metadata": {},
   "outputs": [
    {
     "data": {
      "text/latex": [
       "$6.67408 \\times 10^{-8} \\; \\mathrm{\\frac{cm^{3}}{g\\,s^{2}}}$"
      ],
      "text/plain": [
       "<Quantity 6.67408e-08 cm3 / (g s2)>"
      ]
     },
     "execution_count": 191,
     "metadata": {},
     "output_type": "execute_result"
    }
   ],
   "source": [
    "cn.G.to(\"cm3 / g s2\")"
   ]
  },
  {
   "cell_type": "code",
   "execution_count": 192,
   "metadata": {},
   "outputs": [
    {
     "data": {
      "text/latex": [
       "$6.67408 \\times 10^{-20} \\; \\mathrm{\\frac{km^{3}}{kg\\,s^{2}}}$"
      ],
      "text/plain": [
       "<Quantity 6.67408e-20 km3 / (kg s2)>"
      ]
     },
     "execution_count": 192,
     "metadata": {},
     "output_type": "execute_result"
    }
   ],
   "source": [
    "cn.G.to(\"km3 / kg s2\")"
   ]
  },
  {
   "cell_type": "markdown",
   "metadata": {},
   "source": [
    "Which are 2 other common units for the gravitational constant. Sometimes we want to do conversions between really standard unit conventions. For example, astronomers typicall use cgs (centimeters, grams, second) so we might want to convert our constants to that. We did it above for G but there is an easier way:"
   ]
  },
  {
   "cell_type": "code",
   "execution_count": 216,
   "metadata": {},
   "outputs": [
    {
     "data": {
      "text/latex": [
       "$6.67408 \\times 10^{-8} \\; \\mathrm{\\frac{cm^{3}}{g\\,s^{2}}}$"
      ],
      "text/plain": [
       "<Quantity 6.67408e-08 cm3 / (g s2)>"
      ]
     },
     "execution_count": 216,
     "metadata": {},
     "output_type": "execute_result"
    }
   ],
   "source": [
    "G = cn.G.cgs\n",
    "G"
   ]
  },
  {
   "cell_type": "markdown",
   "metadata": {},
   "source": [
    "And we can convert it back to SI in the same way:"
   ]
  },
  {
   "cell_type": "code",
   "execution_count": 218,
   "metadata": {},
   "outputs": [
    {
     "data": {
      "text/latex": [
       "$6.67408 \\times 10^{-11} \\; \\mathrm{\\frac{m^{3}}{kg\\,s^{2}}}$"
      ],
      "text/plain": [
       "<Quantity 6.67408e-11 m3 / (kg s2)>"
      ]
     },
     "execution_count": 218,
     "metadata": {},
     "output_type": "execute_result"
    }
   ],
   "source": [
    "G = G.si\n",
    "G"
   ]
  },
  {
   "cell_type": "markdown",
   "metadata": {},
   "source": [
    "Now let's see how this can help us for a calculation. We will use the formula for Newtonian gravity to calculate the acceleration at the surface of the earth. \n",
    "\n",
    "$$ a = -\\frac{GM}{r^2} $$\n",
    "\n",
    "We will need:\n",
    "1. Mass of the earth\n",
    "2. G\n",
    "3. Radius of the earth"
   ]
  },
  {
   "cell_type": "code",
   "execution_count": 224,
   "metadata": {},
   "outputs": [],
   "source": [
    "Me = cn.M_earth\n",
    "G = cn.G\n",
    "Re = cn.R_earth"
   ]
  },
  {
   "cell_type": "code",
   "execution_count": 225,
   "metadata": {},
   "outputs": [
    {
     "data": {
      "text/latex": [
       "$5.9723647 \\times 10^{24} \\; \\mathrm{kg}$"
      ],
      "text/plain": [
       "<<class 'astropy.constants.iau2015.IAU2015'> name='Earth mass' value=5.972364730419773e+24 uncertainty=2.7740648395436216e+20 unit='kg' reference='IAU 2015 Resolution B 3 + CODATA 2014'>"
      ]
     },
     "execution_count": 225,
     "metadata": {},
     "output_type": "execute_result"
    }
   ],
   "source": [
    "Me"
   ]
  },
  {
   "cell_type": "code",
   "execution_count": 226,
   "metadata": {},
   "outputs": [
    {
     "data": {
      "text/latex": [
       "$6.67408 \\times 10^{-11} \\; \\mathrm{\\frac{m^{3}}{kg\\,s^{2}}}$"
      ],
      "text/plain": [
       "<<class 'astropy.constants.codata2014.CODATA2014'> name='Gravitational constant' value=6.67408e-11 uncertainty=3.1e-15 unit='m3 / (kg s2)' reference='CODATA 2014'>"
      ]
     },
     "execution_count": 226,
     "metadata": {},
     "output_type": "execute_result"
    }
   ],
   "source": [
    "G"
   ]
  },
  {
   "cell_type": "code",
   "execution_count": 227,
   "metadata": {},
   "outputs": [
    {
     "data": {
      "text/latex": [
       "$6378100 \\; \\mathrm{m}$"
      ],
      "text/plain": [
       "<<class 'astropy.constants.iau2015.IAU2015'> name='Nominal Earth equatorial radius' value=6378100.0 uncertainty=0.0 unit='m' reference='IAU 2015 Resolution B 3'>"
      ]
     },
     "execution_count": 227,
     "metadata": {},
     "output_type": "execute_result"
    }
   ],
   "source": [
    "Re"
   ]
  },
  {
   "cell_type": "markdown",
   "metadata": {},
   "source": [
    "So let's try performaing the calculation and then checking the units."
   ]
  },
  {
   "cell_type": "code",
   "execution_count": 229,
   "metadata": {},
   "outputs": [
    {
     "data": {
      "text/latex": [
       "$-9.7983981 \\; \\mathrm{\\frac{m}{s^{2}}}$"
      ],
      "text/plain": [
       "<Quantity -9.79839813 m / s2>"
      ]
     },
     "execution_count": 229,
     "metadata": {},
     "output_type": "execute_result"
    }
   ],
   "source": [
    "a = - (G * Me) / Re**2\n",
    "a"
   ]
  },
  {
   "cell_type": "markdown",
   "metadata": {},
   "source": [
    "And we can also see just the units if we want:"
   ]
  },
  {
   "cell_type": "code",
   "execution_count": 234,
   "metadata": {},
   "outputs": [
    {
     "data": {
      "text/latex": [
       "$\\mathrm{\\frac{m}{s^{2}}}$"
      ],
      "text/plain": [
       "Unit(\"m / s2\")"
      ]
     },
     "execution_count": 234,
     "metadata": {},
     "output_type": "execute_result"
    }
   ],
   "source": [
    "a.unit"
   ]
  },
  {
   "cell_type": "markdown",
   "metadata": {},
   "source": [
    "Which are indeed the correct units of acceleration. We also notice the value is what we expect. Let's try it now with different units to check it still works."
   ]
  },
  {
   "cell_type": "code",
   "execution_count": 249,
   "metadata": {},
   "outputs": [],
   "source": [
    "Re = Re.to(un.km)\n",
    "Me = Me.cgs"
   ]
  },
  {
   "cell_type": "code",
   "execution_count": 250,
   "metadata": {},
   "outputs": [
    {
     "data": {
      "text/latex": [
       "$6378.1 \\; \\mathrm{km}$"
      ],
      "text/plain": [
       "<Quantity 6378.1 km>"
      ]
     },
     "execution_count": 250,
     "metadata": {},
     "output_type": "execute_result"
    }
   ],
   "source": [
    "Re"
   ]
  },
  {
   "cell_type": "code",
   "execution_count": 251,
   "metadata": {},
   "outputs": [
    {
     "data": {
      "text/latex": [
       "$5.9723647 \\times 10^{27} \\; \\mathrm{g}$"
      ],
      "text/plain": [
       "<Quantity 5.97236473e+27 g>"
      ]
     },
     "execution_count": 251,
     "metadata": {},
     "output_type": "execute_result"
    }
   ],
   "source": [
    "Me"
   ]
  },
  {
   "cell_type": "code",
   "execution_count": 252,
   "metadata": {},
   "outputs": [
    {
     "data": {
      "text/latex": [
       "$-9.7983981 \\times 10^{9} \\; \\mathrm{\\frac{m^{3}\\,g}{kg\\,km^{2}\\,s^{2}}}$"
      ],
      "text/plain": [
       "<Quantity -9.79839813e+09 g m3 / (kg km2 s2)>"
      ]
     },
     "execution_count": 252,
     "metadata": {},
     "output_type": "execute_result"
    }
   ],
   "source": [
    "a = - (G * Me) / Re**2\n",
    "a"
   ]
  },
  {
   "cell_type": "markdown",
   "metadata": {},
   "source": [
    "Now we have weird composite units that are difficult to read. But that's no problem, because we can easily convert it. If we want it in SI we can do either:"
   ]
  },
  {
   "cell_type": "code",
   "execution_count": 256,
   "metadata": {},
   "outputs": [
    {
     "data": {
      "text/latex": [
       "$-9.7983981 \\; \\mathrm{\\frac{m}{s^{2}}}$"
      ],
      "text/plain": [
       "<Quantity -9.79839813 m / s2>"
      ]
     },
     "execution_count": 256,
     "metadata": {},
     "output_type": "execute_result"
    }
   ],
   "source": [
    "a.si"
   ]
  },
  {
   "cell_type": "code",
   "execution_count": 257,
   "metadata": {},
   "outputs": [
    {
     "data": {
      "text/latex": [
       "$-9.7983981 \\; \\mathrm{\\frac{m}{s^{2}}}$"
      ],
      "text/plain": [
       "<Quantity -9.79839813 m / s2>"
      ]
     },
     "execution_count": 257,
     "metadata": {},
     "output_type": "execute_result"
    }
   ],
   "source": [
    "a.to(\"m / s2\")"
   ]
  },
  {
   "cell_type": "markdown",
   "metadata": {},
   "source": [
    "And we get back exactly what we expected. \n",
    "\n",
    "Using units can be helpful both in terms of converting things and also to make sure the dimensions are correct. You will immediately know with confidence that your calculations at least have the right combinations of quantitites which can avoid many simple calculation errors. "
   ]
  },
  {
   "cell_type": "markdown",
   "metadata": {},
   "source": [
    "Another useful package for physics is the Sympy package. I will not got into too much detail since it is easy for you to read up on it and use the methods but I will show you some basic features such as analytic integrals and derivatives."
   ]
  },
  {
   "cell_type": "code",
   "execution_count": 261,
   "metadata": {},
   "outputs": [],
   "source": [
    "# Now create som symbolic variables\n",
    "x, y, z = sp.symbols('x, y, z')"
   ]
  },
  {
   "cell_type": "markdown",
   "metadata": {},
   "source": [
    "We can use the symbols we defined to create an algebraic formula."
   ]
  },
  {
   "cell_type": "code",
   "execution_count": 265,
   "metadata": {},
   "outputs": [
    {
     "data": {
      "image/png": "[encoded data removed]",
      "text/latex": [
       "$$\\frac{x y}{z}$$"
      ],
      "text/plain": [
       "x⋅y\n",
       "───\n",
       " z "
      ]
     },
     "execution_count": 265,
     "metadata": {},
     "output_type": "execute_result"
    }
   ],
   "source": [
    "a = x * y / z\n",
    "a"
   ]
  },
  {
   "cell_type": "markdown",
   "metadata": {},
   "source": [
    "We can also substitute values into that formula to get a numerical result."
   ]
  },
  {
   "cell_type": "code",
   "execution_count": 273,
   "metadata": {},
   "outputs": [
    {
     "data": {
      "image/png": "[encoded data removed]",
      "text/latex": [
       "$$\\frac{1}{2}$$"
      ],
      "text/plain": [
       "1/2"
      ]
     },
     "execution_count": 273,
     "metadata": {},
     "output_type": "execute_result"
    }
   ],
   "source": [
    "a.subs([(x, 1), (y, 2), (z, 4)])"
   ]
  },
  {
   "cell_type": "markdown",
   "metadata": {},
   "source": [
    "We can define a function with functions such as sin and cos as well:"
   ]
  },
  {
   "cell_type": "code",
   "execution_count": 277,
   "metadata": {},
   "outputs": [
    {
     "data": {
      "image/png": "[encoded data removed]",
      "text/latex": [
       "$$\\sin{\\left (x \\right )} \\cos^{2}{\\left (x \\right )}$$"
      ],
      "text/plain": [
       "          2   \n",
       "sin(x)⋅cos (x)"
      ]
     },
     "execution_count": 277,
     "metadata": {},
     "output_type": "execute_result"
    }
   ],
   "source": [
    "f = sp.sin(x) * sp.cos(x)**2\n",
    "f"
   ]
  },
  {
   "cell_type": "markdown",
   "metadata": {},
   "source": [
    "Let's try taking the derivative and integral of this:"
   ]
  },
  {
   "cell_type": "code",
   "execution_count": 283,
   "metadata": {},
   "outputs": [
    {
     "data": {
      "image/png": "[encoded data removed]",
      "text/latex": [
       "$$- 2 \\sin^{2}{\\left (x \\right )} \\cos{\\left (x \\right )} + \\cos^{3}{\\left (x \\right )}$$"
      ],
      "text/plain": [
       "       2                3   \n",
       "- 2⋅sin (x)⋅cos(x) + cos (x)"
      ]
     },
     "execution_count": 283,
     "metadata": {},
     "output_type": "execute_result"
    }
   ],
   "source": [
    "# Algebraic derivative\n",
    "sp.diff(f, x)"
   ]
  },
  {
   "cell_type": "code",
   "execution_count": 287,
   "metadata": {},
   "outputs": [
    {
     "data": {
      "image/png": "[encoded data removed]",
      "text/latex": [
       "$$1.0$$"
      ],
      "text/plain": [
       "1.00000000000000"
      ]
     },
     "execution_count": 287,
     "metadata": {},
     "output_type": "execute_result"
    }
   ],
   "source": [
    "# Derivative evaluated at a point\n",
    "sp.diff(f, x).subs(x, 2*np.pi)"
   ]
  },
  {
   "cell_type": "code",
   "execution_count": 288,
   "metadata": {},
   "outputs": [
    {
     "data": {
      "image/png": "[encoded data removed]",
      "text/latex": [
       "$$\\left(2 \\sin^{2}{\\left (x \\right )} - 7 \\cos^{2}{\\left (x \\right )}\\right) \\sin{\\left (x \\right )}$$"
      ],
      "text/plain": [
       "⎛     2           2   ⎞       \n",
       "⎝2⋅sin (x) - 7⋅cos (x)⎠⋅sin(x)"
      ]
     },
     "execution_count": 288,
     "metadata": {},
     "output_type": "execute_result"
    }
   ],
   "source": [
    "# Second derivative\n",
    "sp.diff(f, x, 2)"
   ]
  },
  {
   "cell_type": "markdown",
   "metadata": {},
   "source": [
    "We can also perform definite and indefinite integrals."
   ]
  },
  {
   "cell_type": "code",
   "execution_count": 290,
   "metadata": {},
   "outputs": [
    {
     "data": {
      "image/png": "[encoded data removed]",
      "text/latex": [
       "$$- \\frac{1}{3} \\cos^{3}{\\left (x \\right )}$$"
      ],
      "text/plain": [
       "    3    \n",
       "-cos (x) \n",
       "─────────\n",
       "    3    "
      ]
     },
     "execution_count": 290,
     "metadata": {},
     "output_type": "execute_result"
    }
   ],
   "source": [
    "# Indefinite integral\n",
    "sp.integrate(f, x)"
   ]
  },
  {
   "cell_type": "code",
   "execution_count": 292,
   "metadata": {},
   "outputs": [
    {
     "data": {
      "image/png": "[encoded data removed]",
      "text/latex": [
       "$$0.666666666666667$$"
      ],
      "text/plain": [
       "0.666666666666667"
      ]
     },
     "execution_count": 292,
     "metadata": {},
     "output_type": "execute_result"
    }
   ],
   "source": [
    "# Definite integral from 0 -> pi\n",
    "sp.integrate(f, (x, 0, np.pi))"
   ]
  },
  {
   "cell_type": "code",
   "execution_count": 301,
   "metadata": {},
   "outputs": [
    {
     "data": {
      "image/png": "[encoded data removed]",
      "text/latex": [
       "$$\\int \\sin{\\left (x \\right )} \\cos^{2}{\\left (x \\right )}\\, dx$$"
      ],
      "text/plain": [
       "⌠                  \n",
       "⎮           2      \n",
       "⎮ sin(x)⋅cos (x) dx\n",
       "⌡                  "
      ]
     },
     "execution_count": 301,
     "metadata": {},
     "output_type": "execute_result"
    }
   ],
   "source": [
    "# We can also show the integral before evaluating it\n",
    "I = sp.Integral(f, x)\n",
    "I"
   ]
  },
  {
   "cell_type": "code",
   "execution_count": 333,
   "metadata": {},
   "outputs": [
    {
     "data": {
      "image/png": "[encoded data removed]",
      "text/latex": [
       "$$- \\frac{1}{2} \\log{\\left (2 \\right )} + \\frac{1}{2}$$"
      ],
      "text/plain": [
       "  log(2)   1\n",
       "- ────── + ─\n",
       "    2      2"
      ]
     },
     "execution_count": 333,
     "metadata": {},
     "output_type": "execute_result"
    }
   ],
   "source": [
    "# And then evaluate it once we know we have the right integral\n",
    "I.doit()"
   ]
  },
  {
   "cell_type": "markdown",
   "metadata": {},
   "source": [
    "This second way is particularily useful for multivariable integrals"
   ]
  },
  {
   "cell_type": "code",
   "execution_count": 313,
   "metadata": {},
   "outputs": [
    {
     "data": {
      "image/png": "[encoded data removed]",
      "text/latex": [
       "$$\\frac{y}{x}$$"
      ],
      "text/plain": [
       "y\n",
       "─\n",
       "x"
      ]
     },
     "execution_count": 313,
     "metadata": {},
     "output_type": "execute_result"
    }
   ],
   "source": [
    "f2 = y/x\n",
    "f2"
   ]
  },
  {
   "cell_type": "code",
   "execution_count": 319,
   "metadata": {},
   "outputs": [
    {
     "data": {
      "image/png": "[encoded data removed]",
      "text/latex": [
       "$$\\int_{1}^{2}\\int_{0}^{\\sqrt{x - 1}} \\frac{y}{x}\\, dy\\, dx$$"
      ],
      "text/plain": [
       "    _______        \n",
       "2 ╲╱ x - 1         \n",
       "⌠     ⌠            \n",
       "⎮     ⎮     y      \n",
       "⎮     ⎮     ─ dy dx\n",
       "⎮     ⎮     x      \n",
       "⌡     ⌡            \n",
       "1     0            "
      ]
     },
     "execution_count": 319,
     "metadata": {},
     "output_type": "execute_result"
    }
   ],
   "source": [
    "I = sp.Integral(sp.Integral(f2, (y, 0,sp.sqrt(x - 1))), (x, 1, 2))\n",
    "I"
   ]
  },
  {
   "cell_type": "code",
   "execution_count": 482,
   "metadata": {},
   "outputs": [
    {
     "data": {
      "image/png": "[encoded data removed]",
      "text/latex": [
       "$$- \\frac{1}{2} \\log{\\left (2 \\right )} + \\frac{1}{2}$$"
      ],
      "text/plain": [
       "  log(2)   1\n",
       "- ────── + ─\n",
       "    2      2"
      ]
     },
     "execution_count": 482,
     "metadata": {},
     "output_type": "execute_result"
    }
   ],
   "source": [
    "I = I.doit()\n",
    "I"
   ]
  },
  {
   "cell_type": "code",
   "execution_count": 489,
   "metadata": {},
   "outputs": [
    {
     "data": {
      "image/png": "[encoded data removed]",
      "text/latex": [
       "$$0.153426409720027$$"
      ],
      "text/plain": [
       "0.153426409720027"
      ]
     },
     "execution_count": 489,
     "metadata": {},
     "output_type": "execute_result"
    }
   ],
   "source": [
    "# We can also evaluate that as a decimal number\n",
    "I.evalf()"
   ]
  },
  {
   "cell_type": "markdown",
   "metadata": {},
   "source": [
    "Sympy has many other detailed tutorials and examples for all the functionality on their website. If you want to try it out or do more advanced features then check it out. "
   ]
  },
  {
   "cell_type": "markdown",
   "metadata": {},
   "source": [
    "## Some more advanced numpy array examples"
   ]
  },
  {
   "cell_type": "markdown",
   "metadata": {},
   "source": [
    "Numpy arrays have many features and as you solve problems with Python, you will get to learn many more of them. I will show you some interesting ways of sorting and slecting data."
   ]
  },
  {
   "cell_type": "code",
   "execution_count": 382,
   "metadata": {},
   "outputs": [
    {
     "data": {
      "text/plain": [
       "array([[0, 1, 2],\n",
       "       [3, 4, 5],\n",
       "       [6, 7, 8]])"
      ]
     },
     "execution_count": 382,
     "metadata": {},
     "output_type": "execute_result"
    }
   ],
   "source": [
    "# We can use reshape to turn a 1d array into a matrix\n",
    "mat = np.arange(9).reshape(3,3)\n",
    "mat"
   ]
  },
  {
   "cell_type": "code",
   "execution_count": 392,
   "metadata": {},
   "outputs": [
    {
     "data": {
      "text/plain": [
       "array([1, 4, 7])"
      ]
     },
     "execution_count": 392,
     "metadata": {},
     "output_type": "execute_result"
    }
   ],
   "source": [
    "# We can select just a column in the same way we would select rows\n",
    "mat[:,1]"
   ]
  },
  {
   "cell_type": "code",
   "execution_count": 532,
   "metadata": {},
   "outputs": [
    {
     "data": {
      "text/plain": [
       "array([[ 1,  2,  3,  4,  5],\n",
       "       [ 6,  7,  8,  9, 10],\n",
       "       [11, 12, 13, 14, 15],\n",
       "       [16, 17, 18, 19, 20],\n",
       "       [21, 22, 23, 24, 25]])"
      ]
     },
     "execution_count": 532,
     "metadata": {},
     "output_type": "execute_result"
    }
   ],
   "source": [
    "mat2 = np.arange(1, 26).reshape(5,5)\n",
    "mat2"
   ]
  },
  {
   "cell_type": "code",
   "execution_count": 419,
   "metadata": {},
   "outputs": [
    {
     "data": {
      "text/plain": [
       "array([[ 2,  3],\n",
       "       [12, 13],\n",
       "       [22, 23]])"
      ]
     },
     "execution_count": 419,
     "metadata": {},
     "output_type": "execute_result"
    }
   ],
   "source": [
    "# We can slice a portion of it in 2D\n",
    "mat2[::2,1:3]"
   ]
  },
  {
   "cell_type": "code",
   "execution_count": 459,
   "metadata": {},
   "outputs": [
    {
     "data": {
      "text/plain": [
       "array([[0.69504878, 0.65449394, 0.55614308, 0.62265516, 0.30344209],\n",
       "       [0.44589174, 0.37735979, 0.68464581, 0.69953992, 0.9828164 ],\n",
       "       [0.39673996, 0.04574451, 0.0881544 , 0.62416272, 0.98073203],\n",
       "       [0.61218114, 0.51112356, 0.52341114, 0.77378067, 0.64066946],\n",
       "       [0.06721465, 0.17863923, 0.11622641, 0.67156705, 0.16876658]])"
      ]
     },
     "execution_count": 459,
     "metadata": {},
     "output_type": "execute_result"
    }
   ],
   "source": [
    "# Let's try an matrix of random numbers and look at sorting it\n",
    "mat3 = np.random.rand(25).reshape(5,5)\n",
    "mat3"
   ]
  },
  {
   "cell_type": "code",
   "execution_count": 460,
   "metadata": {},
   "outputs": [
    {
     "data": {
      "text/plain": [
       "array([[0.30344209, 0.55614308, 0.62265516, 0.65449394, 0.69504878],\n",
       "       [0.37735979, 0.44589174, 0.68464581, 0.69953992, 0.9828164 ],\n",
       "       [0.04574451, 0.0881544 , 0.39673996, 0.62416272, 0.98073203],\n",
       "       [0.51112356, 0.52341114, 0.61218114, 0.64066946, 0.77378067],\n",
       "       [0.06721465, 0.11622641, 0.16876658, 0.17863923, 0.67156705]])"
      ]
     },
     "execution_count": 460,
     "metadata": {},
     "output_type": "execute_result"
    }
   ],
   "source": [
    "# We can sort the rows\n",
    "np.sort(mat3)"
   ]
  },
  {
   "cell_type": "code",
   "execution_count": 461,
   "metadata": {},
   "outputs": [
    {
     "data": {
      "text/plain": [
       "array([[0.06721465, 0.04574451, 0.0881544 , 0.62265516, 0.16876658],\n",
       "       [0.39673996, 0.17863923, 0.11622641, 0.62416272, 0.30344209],\n",
       "       [0.44589174, 0.37735979, 0.52341114, 0.67156705, 0.64066946],\n",
       "       [0.61218114, 0.51112356, 0.55614308, 0.69953992, 0.98073203],\n",
       "       [0.69504878, 0.65449394, 0.68464581, 0.77378067, 0.9828164 ]])"
      ]
     },
     "execution_count": 461,
     "metadata": {},
     "output_type": "execute_result"
    }
   ],
   "source": [
    "# Or we can sort the columns\n",
    "np.sort(mat3, axis=0)"
   ]
  },
  {
   "cell_type": "code",
   "execution_count": 462,
   "metadata": {},
   "outputs": [
    {
     "data": {
      "text/plain": [
       "array([[0.69504878, 0.65449394, 0.68464581, 0.77378067, 0.9828164 ],\n",
       "       [0.61218114, 0.51112356, 0.55614308, 0.69953992, 0.98073203],\n",
       "       [0.44589174, 0.37735979, 0.52341114, 0.67156705, 0.64066946],\n",
       "       [0.39673996, 0.17863923, 0.11622641, 0.62416272, 0.30344209],\n",
       "       [0.06721465, 0.04574451, 0.0881544 , 0.62265516, 0.16876658]])"
      ]
     },
     "execution_count": 462,
     "metadata": {},
     "output_type": "execute_result"
    }
   ],
   "source": [
    "# To reverse the sort we do the following\n",
    "np.sort(mat3, axis=0)[::-1]"
   ]
  },
  {
   "cell_type": "code",
   "execution_count": 477,
   "metadata": {},
   "outputs": [
    {
     "data": {
      "text/plain": [
       "array([[0.39673996, 0.04574451, 0.0881544 , 0.62416272, 0.98073203],\n",
       "       [0.06721465, 0.17863923, 0.11622641, 0.67156705, 0.16876658],\n",
       "       [0.44589174, 0.37735979, 0.68464581, 0.69953992, 0.9828164 ],\n",
       "       [0.61218114, 0.51112356, 0.52341114, 0.77378067, 0.64066946],\n",
       "       [0.69504878, 0.65449394, 0.55614308, 0.62265516, 0.30344209]])"
      ]
     },
     "execution_count": 477,
     "metadata": {},
     "output_type": "execute_result"
    }
   ],
   "source": [
    "# Sort entire matrix by one column\n",
    "mat3[mat3[:,1].argsort()]"
   ]
  }
 ],
 "metadata": {
  "kernelspec": {
   "display_name": "Python 3",
   "language": "python",
   "name": "python3"
  },
  "language_info": {
   "codemirror_mode": {
    "name": "ipython",
    "version": 3
   },
   "file_extension": ".py",
   "mimetype": "text/x-python",
   "name": "python",
   "nbconvert_exporter": "python",
   "pygments_lexer": "ipython3",
   "version": "3.6.2"
  }
 },
 "nbformat": 4,
 "nbformat_minor": 2
}
