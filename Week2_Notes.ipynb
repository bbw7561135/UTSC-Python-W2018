{
 "cells": [
  {
   "cell_type": "markdown",
   "metadata": {},
   "source": [
    "# Week 2 Notes\n",
    "## Lists and Arrays, Numpy, Matplotlib"
   ]
  },
  {
   "cell_type": "markdown",
   "metadata": {},
   "source": [
    "Review the solution from last week."
   ]
  },
  {
   "cell_type": "code",
   "execution_count": 3,
   "metadata": {},
   "outputs": [],
   "source": [
    "def transpose(A):\n",
    "    \"\"\"\n",
    "    (list of list) -> list of list\n",
    "    Given a matrix A, return a new matrix which is the transpose of A.\n",
    "    \"\"\"\n",
    "    # Empty list will be the outer list for our matrix.\n",
    "    new_mat = []\n",
    "    \n",
    "    # Iterate through the number of columns \n",
    "    # (note that each row has same # columns so we use A[0])\n",
    "    for j in range(len(A[0])):\n",
    "        # Empty list to construct a row\n",
    "        inner = []\n",
    "        # Iterate through the rows of A\n",
    "        for i in range(len(A)):\n",
    "            # Append the jth element from each row to the matrix\n",
    "            # We are going down the column appending the elements\n",
    "            # These elements traversed down the column will now be a row\n",
    "            inner.append(A[i][j])\n",
    "            \n",
    "        # Now append the inner list that has the column elements to the matrix\n",
    "        # This is now a row and the matrix is transposed.\n",
    "        new_mat.append(inner)\n",
    "        \n",
    "    return new_mat"
   ]
  },
  {
   "cell_type": "markdown",
   "metadata": {},
   "source": [
    "Let's see how we can do last week's questions using Numpy. Numpy us very versatile and can greatly simplify many tasks scientists typically do with lists such as linear algebra."
   ]
  },
  {
   "cell_type": "code",
   "execution_count": 4,
   "metadata": {},
   "outputs": [],
   "source": [
    "# Import some packages\n",
    "import numpy as np\n",
    "import matplotlib.pyplot as plt\n",
    "%matplotlib inline"
   ]
  },
  {
   "cell_type": "markdown",
   "metadata": {},
   "source": [
    "The most basic thing which we will use a lot is a numpy array. This is similar to a Python list but it is static (can't be made smaller or larger) and has built in operations for linear algebra. We declare an array as:"
   ]
  },
  {
   "cell_type": "code",
   "execution_count": 5,
   "metadata": {},
   "outputs": [],
   "source": [
    "my_arr = np.array([1, 2, 3])"
   ]
  },
  {
   "cell_type": "code",
   "execution_count": 6,
   "metadata": {},
   "outputs": [
    {
     "data": {
      "text/plain": [
       "array([1, 2, 3])"
      ]
     },
     "execution_count": 6,
     "metadata": {},
     "output_type": "execute_result"
    }
   ],
   "source": [
    "my_arr"
   ]
  },
  {
   "cell_type": "markdown",
   "metadata": {},
   "source": [
    "We can also declare matrices in numpy:"
   ]
  },
  {
   "cell_type": "code",
   "execution_count": 7,
   "metadata": {},
   "outputs": [],
   "source": [
    "matrix = np.array([[1, 2], [3, 4]])"
   ]
  },
  {
   "cell_type": "code",
   "execution_count": 8,
   "metadata": {},
   "outputs": [
    {
     "data": {
      "text/plain": [
       "array([[1, 2],\n",
       "       [3, 4]])"
      ]
     },
     "execution_count": 8,
     "metadata": {},
     "output_type": "execute_result"
    }
   ],
   "source": [
    "matrix"
   ]
  },
  {
   "cell_type": "markdown",
   "metadata": {},
   "source": [
    "Notice that is conveniently prints it out nicely like a matrix now!"
   ]
  },
  {
   "cell_type": "markdown",
   "metadata": {},
   "source": [
    "Let's do the problems from last week using Numpy. First let's look at all the functions that Numpy has available. We can do this in Jupyter using dir() or we can search the internet for the tech docs. Let's try it with dir()."
   ]
  },
  {
   "cell_type": "code",
   "execution_count": null,
   "metadata": {},
   "outputs": [],
   "source": [
    "dir(np)"
   ]
  },
  {
   "cell_type": "markdown",
   "metadata": {},
   "source": [
    "If we wanted to know more about one then we can find out more by using help()"
   ]
  },
  {
   "cell_type": "code",
   "execution_count": null,
   "metadata": {},
   "outputs": [],
   "source": [
    "help(np.array)"
   ]
  },
  {
   "cell_type": "markdown",
   "metadata": {},
   "source": [
    "Lot's of details here but the examples are quite useful. Let's try the questions from last week now: "
   ]
  },
  {
   "cell_type": "code",
   "execution_count": 9,
   "metadata": {},
   "outputs": [],
   "source": [
    "# Define 2 matrices and 2 vectors to use for the examples\n",
    "a = np.array([1, 2])\n",
    "b = np.array([5, 6])\n",
    "\n",
    "A = np.array([[1, 2], [3, 2]])\n",
    "B = np.array([[3, 4], [1, 2]])"
   ]
  },
  {
   "cell_type": "code",
   "execution_count": 10,
   "metadata": {},
   "outputs": [
    {
     "data": {
      "text/plain": [
       "17"
      ]
     },
     "execution_count": 10,
     "metadata": {},
     "output_type": "execute_result"
    }
   ],
   "source": [
    "# 1. Dot product\n",
    "a.dot(b)"
   ]
  },
  {
   "cell_type": "code",
   "execution_count": 11,
   "metadata": {},
   "outputs": [
    {
     "data": {
      "text/plain": [
       "array([5, 7])"
      ]
     },
     "execution_count": 11,
     "metadata": {},
     "output_type": "execute_result"
    }
   ],
   "source": [
    "# 2. Matrix by vector\n",
    "A.dot(a)"
   ]
  },
  {
   "cell_type": "code",
   "execution_count": 12,
   "metadata": {},
   "outputs": [
    {
     "data": {
      "text/plain": [
       "array([[1, 3],\n",
       "       [2, 2]])"
      ]
     },
     "execution_count": 12,
     "metadata": {},
     "output_type": "execute_result"
    }
   ],
   "source": [
    "# 3. Transpose\n",
    "A.T"
   ]
  },
  {
   "cell_type": "code",
   "execution_count": 13,
   "metadata": {},
   "outputs": [
    {
     "data": {
      "text/plain": [
       "array([[ 5,  8],\n",
       "       [11, 16]])"
      ]
     },
     "execution_count": 13,
     "metadata": {},
     "output_type": "execute_result"
    }
   ],
   "source": [
    "# 4. Multiply Matrices\n",
    "# 2 Ways:\n",
    "# (1).\n",
    "A.dot(B)"
   ]
  },
  {
   "cell_type": "code",
   "execution_count": 14,
   "metadata": {},
   "outputs": [
    {
     "data": {
      "text/plain": [
       "array([[ 5,  8],\n",
       "       [11, 16]])"
      ]
     },
     "execution_count": 14,
     "metadata": {},
     "output_type": "execute_result"
    }
   ],
   "source": [
    "# (2).\n",
    "A @ B"
   ]
  },
  {
   "cell_type": "code",
   "execution_count": 15,
   "metadata": {},
   "outputs": [
    {
     "data": {
      "text/plain": [
       "array([21, 43])"
      ]
     },
     "execution_count": 15,
     "metadata": {},
     "output_type": "execute_result"
    }
   ],
   "source": [
    "# 5. Matrix x Matrix x Vector\n",
    "(A @ B).dot(a)"
   ]
  },
  {
   "cell_type": "markdown",
   "metadata": {},
   "source": [
    "Let's do a different example that uses what we learned last week, a numpy array and one more new feature. We will talk about the if statement and how we can use it for conditional flow control. The general form is:"
   ]
  },
  {
   "cell_type": "markdown",
   "metadata": {},
   "source": [
    "```Python\n",
    "if condition:\n",
    "    # Code to run\n",
    "elif condition2:\n",
    "    # Code to run instead\n",
    "else:\n",
    "    # If neither 1 nor 2 are true\n",
    "```"
   ]
  },
  {
   "cell_type": "markdown",
   "metadata": {},
   "source": [
    "The conditions take the form of boolean expressions. They use the operators: <, >,<=, >=, ==, !=, and, or. Let's do a simple example:"
   ]
  },
  {
   "cell_type": "code",
   "execution_count": null,
   "metadata": {},
   "outputs": [],
   "source": [
    "n = 6\n",
    "\n",
    "if n > 6:\n",
    "    print(\"Bigger than 6\")\n",
    "else:ww\n",
    "    print(\"Smaller than 6\")"
   ]
  },
  {
   "cell_type": "code",
   "execution_count": null,
   "metadata": {},
   "outputs": [],
   "source": [
    "# Adding an elif\n",
    "\n",
    "if n > 6:\n",
    "    print(\"Bigger than 6\")\n",
    "elif n == 6:\n",
    "    print(\"N equals 6\")\n",
    "else:\n",
    "    print(\"Smaller than 6\")\n",
    "    "
   ]
  },
  {
   "cell_type": "markdown",
   "metadata": {},
   "source": [
    "Now we will try using this to write a function to sort a numpy array. We will just use a simple selection sort algorithm. It is not the most efficient (scales $O(n^2)$) but for most purposes it is fine and it is much simpler to code than more advanced algorithms. One other new concept we will introduce here is mutability. Lists are mutable so we can actually edit the list (or array) using a function. This allows us to do things without making a new copy."
   ]
  },
  {
   "cell_type": "code",
   "execution_count": null,
   "metadata": {},
   "outputs": [],
   "source": [
    "def selection_sort(lst):\n",
    "    # Iterate through the lst\n",
    "    for i in range(len(lst)):\n",
    "        # Keep track of the current smallest\n",
    "        small = lst[i]\n",
    "        small_ind = i\n",
    "        \n",
    "        # Look to see if there is a smaller item to the right\n",
    "        for j in range(i + 1, len(lst)):\n",
    "            if lst[j] < small:\n",
    "                # If there is smaller item, update small\n",
    "                small = lst[j]\n",
    "                small_ind = j\n",
    "                \n",
    "        # Make a swap. Notice that if small doesn't change then this does nothing\n",
    "        lst[small_ind] = lst[i]\n",
    "        lst[i] = small\n",
    "        \n",
    "        \n",
    "a = np.array([10, 7, 22, 1, 5])\n",
    "selection_sort(a)\n",
    "a"
   ]
  },
  {
   "cell_type": "markdown",
   "metadata": {},
   "source": [
    "## Equations: solving and plotting"
   ]
  },
  {
   "cell_type": "markdown",
   "metadata": {},
   "source": [
    "Let's start by making a simple equation solver. This will use a root finding method. The idea is that we have an equation of the form $F(x) = 0$ and we want to find where it intercepts the of the equation with the  axis on some interval. If we know the eqaution crosses this point on [a, b] and that it is continuous, then this is guaranteed to find a root (not all of them though) as long as sign(f(a)) /= sign(f(b)). Let's work through how we do this.\n",
    "\n",
    "We will use: \n",
    "\n",
    "$$ 2 = x^2 \\implies x^2 - 2 = 0 \\implies F(x) = x^2 - 2$$"
   ]
  },
  {
   "cell_type": "code",
   "execution_count": null,
   "metadata": {},
   "outputs": [],
   "source": [
    "# First define the function we want to solve\n",
    "def F(x):\n",
    "    return x**2 - 2\n",
    "\n",
    "# Now The root finding method\n",
    "def bisection(interval, func):\n",
    "    a, b = interval\n",
    "    \n",
    "    middle = (a + b) / 2\n",
    "    \n",
    "    f_a = func(a)\n",
    "    f_b = func(b)\n",
    "    f_mid = func(middle)\n",
    "    \n",
    "    if f_mid < 0 and f_a > 0:\n",
    "        return [a, middle]\n",
    "    elif f_mid < 0 and f_a < 0:\n",
    "        return [b, middle]\n",
    "    elif f_mid > 0 and f_a > 0:\n",
    "        return [middle, b]\n",
    "    else:\n",
    "        return [middle, a]\n",
    "    \n",
    "\n",
    "# Now we will test this. Let's try running it using \n",
    "# it's own previous result for 10 iteration first.\n",
    "N = 40\n",
    "a, b = [0, 5]\n",
    "for i in range(N):\n",
    "    a, b = bisection([a, b], F)\n",
    "    \n",
    "# If it converged, the two points should be close, let's see:\n",
    "print(a, b)\n",
    "\n",
    "# And the acutal value is:\n",
    "print(np.sqrt(2))"
   ]
  },
  {
   "cell_type": "markdown",
   "metadata": {},
   "source": [
    "Let's learn how to use Matplotlib while also seeing what is happening graphically. We will plot F(x) for this."
   ]
  },
  {
   "cell_type": "code",
   "execution_count": null,
   "metadata": {},
   "outputs": [],
   "source": [
    "# Prepare the x values\n",
    "x = np.linspace(-5, 5, 100)\n",
    "y = F(x)\n",
    "\n",
    "fig, ax = plt.subplots()\n",
    "ax.plot(x, y)\n",
    "ax.set(title='An example plot', xlabel='X', ylabel='Y', ylim=(-3, 10), xlim=(-4, 4))\n",
    "ax.plot(np.sqrt(2), 0, 'rx')\n",
    "ax.grid()\n",
    "\n",
    "# And if we want to save it:\n",
    "fig.savefig('sample_plot.pdf')"
   ]
  },
  {
   "cell_type": "code",
   "execution_count": null,
   "metadata": {},
   "outputs": [],
   "source": []
  }
 ],
 "metadata": {
  "kernelspec": {
   "display_name": "Python 3",
   "language": "python",
   "name": "python3"
  },
  "language_info": {
   "codemirror_mode": {
    "name": "ipython",
    "version": 3
   },
   "file_extension": ".py",
   "mimetype": "text/x-python",
   "name": "python",
   "nbconvert_exporter": "python",
   "pygments_lexer": "ipython3",
   "version": "3.6.2"
  }
 },
 "nbformat": 4,
 "nbformat_minor": 2
}
