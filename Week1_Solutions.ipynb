{
 "cells": [
  {
   "cell_type": "markdown",
   "metadata": {},
   "source": [
    "# UTSC Python for Physics: Week 1 - Solutions"
   ]
  },
  {
   "cell_type": "markdown",
   "metadata": {},
   "source": [
    "Some worked solutions of the problems from the session on February 2. There are many ways to do these problems but I think these are relatively straightworward. It is more important to understand the method than to memorize the specifics of the coding syntax. \n",
    "\n",
    "The type of problem here (for loops for lists and matrices) occurs often in computational physics so you should get used to the general form. Notice that many of the solutions have the same general pattern even if the problems are different.\n",
    "\n",
    "If you have questions or think you have a particularily good solution to one of the problems, feel free to email me at: \n",
    "\n",
    "```fergus.horrobin - at - mail.utoronto.ca.```"
   ]
  },
  {
   "cell_type": "markdown",
   "metadata": {},
   "source": [
    "## Question 1: Dot Product"
   ]
  },
  {
   "cell_type": "code",
   "execution_count": 1,
   "metadata": {},
   "outputs": [],
   "source": [
    "def dot_product(a, b):\n",
    "    \"\"\"\n",
    "    (list of float, list of float) -> float\n",
    "    Take the product a dot b and return\n",
    "    The value as a floating point.\n",
    "    \"\"\"\n",
    "    # We will strart with 0 and add the terms to it\n",
    "    result = 0\n",
    "\n",
    "    # Iterate through the list\n",
    "    # Since len(a) == len(b) it doesn't matter which we choose.\n",
    "    for i in range(len(a)):\n",
    "        # The dot product for one component is a[i]*b[i].\n",
    "        # We sum up the products for all the components.\n",
    "        result += a[i] * b[i]    # Equivalent to result = result + ...\n",
    "        \n",
    "    # We return result which now has the sum of the products of the components (dot product)\n",
    "    return result"
   ]
  },
  {
   "cell_type": "code",
   "execution_count": 2,
   "metadata": {},
   "outputs": [
    {
     "data": {
      "text/plain": [
       "15"
      ]
     },
     "execution_count": 2,
     "metadata": {},
     "output_type": "execute_result"
    }
   ],
   "source": [
    "# An example of use:\n",
    "dot_product([1, 2, 3], [3, 3, 2])"
   ]
  },
  {
   "cell_type": "markdown",
   "metadata": {},
   "source": [
    "## Question 2: Multiply Matrix by Vector"
   ]
  },
  {
   "cell_type": "code",
   "execution_count": 3,
   "metadata": {},
   "outputs": [],
   "source": [
    "def mat_vec(A, a):\n",
    "    \"\"\"\n",
    "    (list of float, list of list) -> list of float\n",
    "    Perform the operation Aa and return the resultant vector\n",
    "    as a Python list.\n",
    "    \"\"\"\n",
    "    # Create a new vector as an empty list.\n",
    "    # We will construct it one component at a time.\n",
    "    new_vec = []\n",
    "    \n",
    "    # Iterate through the matrix rows (which are lists themselves)\n",
    "    for i in range(len(A)):\n",
    "        # Append the dot product of the current row of the matrix\n",
    "        # and the vector. \n",
    "        new_vec.append(dot_product(A[i], a))\n",
    "        \n",
    "    return new_vec"
   ]
  },
  {
   "cell_type": "code",
   "execution_count": 4,
   "metadata": {},
   "outputs": [
    {
     "data": {
      "text/plain": [
       "[5, 11]"
      ]
     },
     "execution_count": 4,
     "metadata": {},
     "output_type": "execute_result"
    }
   ],
   "source": [
    "a = [1, 2]\n",
    "\n",
    "A = [[1, 2], \n",
    "     [3, 4]]\n",
    "\n",
    "mat_vec(A, a)"
   ]
  },
  {
   "cell_type": "markdown",
   "metadata": {},
   "source": [
    "## Question 3: Transpose Matrix"
   ]
  },
  {
   "cell_type": "code",
   "execution_count": 5,
   "metadata": {},
   "outputs": [],
   "source": [
    "def transpose(A):\n",
    "    \"\"\"\n",
    "    (list of list) -> list of list\n",
    "    Given a matrix A, return a new matrix which is the transpose of A.\n",
    "    \"\"\"\n",
    "    # Empty list will be the outer list for our matrix.\n",
    "    new_mat = []\n",
    "    \n",
    "    # Iterate through the number of columns \n",
    "    # (note that each row has same # columns so we use A[0])\n",
    "    for j in range(len(A[0])):\n",
    "        # Empty list to construct a row\n",
    "        inner = []\n",
    "        # Iterate through the rows of A\n",
    "        for i in range(len(A)):\n",
    "            # Append the jth element from each row to the matrix\n",
    "            # We are going down the column appending the elements\n",
    "            # These elements traversed down the column will now be a row\n",
    "            inner.append(A[i][j])\n",
    "            \n",
    "        # Now append the inner list that has the column elements to the matrix\n",
    "        # This is now a row and the matrix is transposed.\n",
    "        new_mat.append(inner)\n",
    "        \n",
    "    return new_mat"
   ]
  },
  {
   "cell_type": "code",
   "execution_count": 6,
   "metadata": {},
   "outputs": [
    {
     "data": {
      "text/plain": [
       "[[1, 3, 2], [2, 4, 3], [3, 1, 5]]"
      ]
     },
     "execution_count": 6,
     "metadata": {},
     "output_type": "execute_result"
    }
   ],
   "source": [
    "A = [[1, 2, 3], \n",
    "     [3, 4, 1], \n",
    "     [2, 3, 5]]\n",
    "\n",
    "transpose(A)"
   ]
  },
  {
   "cell_type": "markdown",
   "metadata": {},
   "source": [
    "## Question 4: Matrix Multiply"
   ]
  },
  {
   "cell_type": "code",
   "execution_count": 7,
   "metadata": {},
   "outputs": [],
   "source": [
    "def matrix_multiply(A, B):\n",
    "    \"\"\"\n",
    "    (list of list, list of list) -> list of list\n",
    "    Given two matrices, return a new matrix that is\n",
    "    the product of the two, AB.\n",
    "    \"\"\"\n",
    "    # Take the transpose of B to make the computation easier.\n",
    "    # We do this because python matrices are convenient to work\n",
    "    # with by row but not by column.\n",
    "    b_transpose = transpose(B)\n",
    "    \n",
    "    # We will construct the new matrix here as in the previous question.\n",
    "    new_mat = []\n",
    "    \n",
    "    # Iterate through the rows in A.\n",
    "    for i in range(len(A)):\n",
    "        # Once again we will construct each row of the new matrix individually.\n",
    "        inner = []\n",
    "        \n",
    "        # Iterate through the rows of the transpose of B (which are the columns of B)\n",
    "        for j in range(len(b_transpose)):\n",
    "            # Since we took the transpose of B we just have to perform\n",
    "            # The dot procut of each row of A with each row of B. \n",
    "            # This is much easier than doing a row with a column.\n",
    "            inner.append(dot_product(A[i], b_transpose[j]))\n",
    "        \n",
    "        # Now we append the row to the matrix as in the previous question.\n",
    "        new_mat.append(inner)\n",
    "        \n",
    "    return new_mat"
   ]
  },
  {
   "cell_type": "code",
   "execution_count": 8,
   "metadata": {},
   "outputs": [
    {
     "data": {
      "text/plain": [
       "[[5, 11], [11, 25]]"
      ]
     },
     "execution_count": 8,
     "metadata": {},
     "output_type": "execute_result"
    }
   ],
   "source": [
    "A = [[1, 2],\n",
    "     [3, 4]]\n",
    "\n",
    "B = [[1, 3],\n",
    "     [2, 4]]\n",
    "\n",
    "matrix_multiply(A, B)"
   ]
  },
  {
   "cell_type": "markdown",
   "metadata": {},
   "source": [
    "## Question 5: Product of Matrices multiplied by a Vector"
   ]
  },
  {
   "cell_type": "code",
   "execution_count": 9,
   "metadata": {},
   "outputs": [],
   "source": [
    "def matrix_2_vector(A, B, a):\n",
    "    \"\"\"\n",
    "    (list of list, list of list, list of float) -> list of list\n",
    "    Take the product ABa.\n",
    "    \"\"\"\n",
    "    # This one is easy if we have the previous functions done.\n",
    "    # First we compute matrix_multiply of A, B\n",
    "    # and then we perform mat_vec on the result\n",
    "    # of the above and a. Note that the evaluation\n",
    "    # goes from inside to outside (first evaluates\n",
    "    # matrix_multiply and then uses the result for mat_vec)\n",
    "    return mat_vec(matrix_multiply(A, B), a)"
   ]
  },
  {
   "cell_type": "code",
   "execution_count": 10,
   "metadata": {},
   "outputs": [
    {
     "data": {
      "text/plain": [
       "[27, 61]"
      ]
     },
     "execution_count": 10,
     "metadata": {},
     "output_type": "execute_result"
    }
   ],
   "source": [
    "A = [[1, 2],\n",
    "     [3, 4]]\n",
    "\n",
    "B = [[1, 3],\n",
    "     [2, 4]]\n",
    "\n",
    "vec = [1, 2]\n",
    "\n",
    "matrix_2_vector(A, B, vec)"
   ]
  }
 ],
 "metadata": {
  "kernelspec": {
   "display_name": "Python 3",
   "language": "python",
   "name": "python3"
  },
  "language_info": {
   "codemirror_mode": {
    "name": "ipython",
    "version": 3
   },
   "file_extension": ".py",
   "mimetype": "text/x-python",
   "name": "python",
   "nbconvert_exporter": "python",
   "pygments_lexer": "ipython3",
   "version": "3.6.2"
  }
 },
 "nbformat": 4,
 "nbformat_minor": 2
}
