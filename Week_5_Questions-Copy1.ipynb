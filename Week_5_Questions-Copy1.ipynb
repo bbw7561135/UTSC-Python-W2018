{
 "cells": [
  {
   "cell_type": "code",
   "execution_count": 3,
   "metadata": {},
   "outputs": [],
   "source": [
    "import numpy as np\n",
    "import matplotlib.pyplot as plt\n",
    "from scipy.optimize import leastsq\n",
    "%matplotlib inline"
   ]
  },
  {
   "cell_type": "markdown",
   "metadata": {},
   "source": [
    "# Week 5 Questions"
   ]
  },
  {
   "cell_type": "markdown",
   "metadata": {},
   "source": [
    "## Q1.Simple 1D Integration with Euler\n",
    "\n",
    "Consider the differential equation defined by: $f(x) = \\frac{dx}{dt} = -5x$. The analytical solution to this is then: $x(t) = Ae^{-5t}$. Consider the initial condition: $x(0) = 1$. Then the analytical solution is $x(t) = e^{-5t}$. \n",
    "\n",
    "a) Solve this ODE from t = 0 to t = 2 using euler's method and plot the results.\n",
    "\n",
    "b) Compare the final result at t = 2 to the analytical result for t = 2. Caclulate the error.\n",
    "\n",
    "c) Compute the error for 5-8 different values of dt. Store the results for later use."
   ]
  },
  {
   "cell_type": "code",
   "execution_count": 15,
   "metadata": {},
   "outputs": [
    {
     "data": {
      "text/plain": [
       "0.2503963339834618"
      ]
     },
     "execution_count": 15,
     "metadata": {},
     "output_type": "execute_result"
    },
    {
     "data": {
      "image/png": "[encoded data removed]",
      "text/plain": [
       "<matplotlib.figure.Figure at 0x11073e8d0>"
      ]
     },
     "metadata": {},
     "output_type": "display_data"
    }
   ],
   "source": [
    "def f(x):\n",
    "    return -5*x\n",
    "\n",
    "def euler(x0, dt):\n",
    "    return x0 + f(x0) * dt\n",
    "\n",
    "def integrate(dt):\n",
    "    x = 1.\n",
    "    \n",
    "    x_res = []\n",
    "    t_res = []\n",
    "    t = 0.\n",
    "    \n",
    "    while t <= 2.:\n",
    "        x_res.append(x)\n",
    "        t_res.append(t)\n",
    "        \n",
    "        t += dt\n",
    "        x = euler(x, dt)\n",
    "        \n",
    "    return x_res, t_res\n",
    "        \n",
    "x, t = integrate(0.0001)\n",
    "\n",
    "plt.plot(t, x)\n",
    "\n",
    "err = abs((x[-1] - np.exp(-5 * t[-1])) / x[-1])\n",
    "err * 100"
   ]
  },
  {
   "cell_type": "markdown",
   "metadata": {},
   "source": [
    "## Q2. The midpoint method\n",
    "\n",
    "We defined Euler's method in general as:\n",
    "\n",
    "$$ x_{n+1} = x_n + f(x) \\Delta t$$\n",
    "\n",
    "Where our ODE is of the form: $\\frac{dx}{dt} = f(x) $. \n",
    "\n",
    "Then in the same way we can define a more advanced method, the midpoint method, which uses a better centered approximation of the slope of the function. It is defined as follows:\n",
    "\n",
    "$$ x_{n+1} = x_n + \\Delta t \\ f\\left(x_n + \\frac{\\Delta t}{2} \\ f(x_n) \\right) $$\n",
    "\n",
    "a) Implement the midpoint integrator and test it with the same function as in Q1.\n",
    "\n",
    "b) Repeat all the steps in Q1 for the midpoint integrator\n",
    "\n",
    "c) Plot err vs dt for both integrators on the same plot. Compare the shape and birefly discuss what this means about the error scaling of the integrator."
   ]
  },
  {
   "cell_type": "markdown",
   "metadata": {},
   "source": [
    "## Q3. Analysis of the Kinematics Solution\n",
    "\n",
    "As our first example of numerical integration, we solved the solution of a particle launched at a certain angle and velocity. We want to check that the results follow what we expect given what we know about kinematics. \n",
    "\n",
    "We will take a graphical approach. Recreate the solution and plot the results of y vs t. Then using the methods from the previous weeks fit the curve. Look at the parameters of the fit and see if you recognize the coefficients. \n",
    "\n",
    "The function is a parabola so it should be able to be fit by some function of the form: \n",
    "\n",
    "$$ y = a_1 t^2 + a_2 t + a_3 $$\n",
    "\n",
    "Your job is to figure out correct values for $a_1$, $a_2$, $a_3$ and comment on whether the results make sense."
   ]
  },
  {
   "cell_type": "markdown",
   "metadata": {},
   "source": [
    "## Q4. Symplectic Orbit Integration\n",
    "\n",
    "So far we have only used non-symplectic integration methods. We will talk more about what symplectic integration means mathematically next week but for now I want you to see what the result of it it. For this we will use the most simple symplectic integrator, the Leapfrog method. This method is very simple but also very powerful and commonly used in questions where we want to ensure energy conservation. This problem explores this method.\n",
    "\n",
    "The Leapfrog method can be written as:\n",
    "\n",
    "$$ x_{n+1} = x_n + vx \\frac{\\Delta t}{2} $$"
   ]
  },
  {
   "cell_type": "markdown",
   "metadata": {},
   "source": [
    "$$ y_{n+1} = y_n + vy \\frac{\\Delta t}{2} $$"
   ]
  },
  {
   "cell_type": "markdown",
   "metadata": {},
   "source": [
    "$$ vx_{n+1} = vx_n + a_x \\Delta t $$"
   ]
  },
  {
   "cell_type": "markdown",
   "metadata": {},
   "source": [
    "$$ vy_{n+1} = vy_n + a_y \\Delta t $$"
   ]
  },
  {
   "cell_type": "markdown",
   "metadata": {},
   "source": [
    "$$ x_{n+1} = x_n + vx \\frac{\\Delta t}{2} $$"
   ]
  },
  {
   "cell_type": "markdown",
   "metadata": {},
   "source": [
    "$$ y_{n+1} = y_n + vy \\frac{\\Delta t}{2} $$\n",
    "\n",
    "As you can see it is almost as simple as the Euler method but it involves a symmetric integration of the position around the velocity. This symmetry leads to much better results.\n",
    "\n",
    "a) Implement the leapfrog method for use in the orbit problem.\n",
    "\n",
    "b) Compare the results of the planetary orbit performed with leapfrog vs Euler. How long can you make the timestep before you start seeing deviations from a circular orbit?"
   ]
  },
  {
   "cell_type": "code",
   "execution_count": 17,
   "metadata": {},
   "outputs": [
    {
     "data": {
      "text/plain": [
       "144"
      ]
     },
     "execution_count": 17,
     "metadata": {},
     "output_type": "execute_result"
    }
   ],
   "source": [
    "12**2"
   ]
  },
  {
   "cell_type": "code",
   "execution_count": 18,
   "metadata": {},
   "outputs": [
    {
     "data": {
      "text/plain": [
       "625"
      ]
     },
     "execution_count": 18,
     "metadata": {},
     "output_type": "execute_result"
    }
   ],
   "source": [
    "25**2"
   ]
  },
  {
   "cell_type": "code",
   "execution_count": 19,
   "metadata": {},
   "outputs": [
    {
     "data": {
      "text/plain": [
       "625.0"
      ]
     },
     "execution_count": 19,
     "metadata": {},
     "output_type": "execute_result"
    }
   ],
   "source": [
    "2500 / 4"
   ]
  },
  {
   "cell_type": "code",
   "execution_count": 20,
   "metadata": {},
   "outputs": [
    {
     "data": {
      "text/plain": [
       "0.25"
      ]
     },
     "execution_count": 20,
     "metadata": {},
     "output_type": "execute_result"
    }
   ],
   "source": [
    "625 / 2500"
   ]
  },
  {
   "cell_type": "code",
   "execution_count": 21,
   "metadata": {},
   "outputs": [
    {
     "data": {
      "text/plain": [
       "576"
      ]
     },
     "execution_count": 21,
     "metadata": {},
     "output_type": "execute_result"
    }
   ],
   "source": [
    "4 * 144"
   ]
  },
  {
   "cell_type": "code",
   "execution_count": 22,
   "metadata": {},
   "outputs": [
    {
     "data": {
      "text/plain": [
       "49"
      ]
     },
     "execution_count": 22,
     "metadata": {},
     "output_type": "execute_result"
    }
   ],
   "source": [
    "625 - 576"
   ]
  },
  {
   "cell_type": "code",
   "execution_count": 23,
   "metadata": {},
   "outputs": [
    {
     "data": {
      "text/plain": [
       "2500"
      ]
     },
     "execution_count": 23,
     "metadata": {},
     "output_type": "execute_result"
    }
   ],
   "source": [
    "50**2"
   ]
  },
  {
   "cell_type": "code",
   "execution_count": 24,
   "metadata": {},
   "outputs": [
    {
     "data": {
      "text/plain": [
       "576"
      ]
     },
     "execution_count": 24,
     "metadata": {},
     "output_type": "execute_result"
    }
   ],
   "source": [
    "625-49"
   ]
  },
  {
   "cell_type": "code",
   "execution_count": 25,
   "metadata": {},
   "outputs": [
    {
     "data": {
      "text/plain": [
       "144"
      ]
     },
     "execution_count": 25,
     "metadata": {},
     "output_type": "execute_result"
    }
   ],
   "source": [
    "12*12"
   ]
  },
  {
   "cell_type": "code",
   "execution_count": 26,
   "metadata": {},
   "outputs": [
    {
     "data": {
      "text/plain": [
       "24.0"
      ]
     },
     "execution_count": 26,
     "metadata": {},
     "output_type": "execute_result"
    }
   ],
   "source": [
    "np.sqrt(576)"
   ]
  },
  {
   "cell_type": "code",
   "execution_count": 27,
   "metadata": {},
   "outputs": [
    {
     "data": {
      "text/plain": [
       "0.6458333333333334"
      ]
     },
     "execution_count": 27,
     "metadata": {},
     "output_type": "execute_result"
    }
   ],
   "source": [
    "15.5/24"
   ]
  },
  {
   "cell_type": "code",
   "execution_count": 28,
   "metadata": {},
   "outputs": [],
   "source": [
    "import sympy as sp"
   ]
  },
  {
   "cell_type": "code",
   "execution_count": 29,
   "metadata": {},
   "outputs": [],
   "source": [
    "x = sp.symbols('x')"
   ]
  },
  {
   "cell_type": "code",
   "execution_count": 32,
   "metadata": {},
   "outputs": [
    {
     "data": {
      "text/plain": [
       "-2/x**3"
      ]
     },
     "execution_count": 32,
     "metadata": {},
     "output_type": "execute_result"
    }
   ],
   "source": [
    "sp.diff((1/x**2))"
   ]
  },
  {
   "cell_type": "code",
   "execution_count": null,
   "metadata": {},
   "outputs": [],
   "source": []
  }
 ],
 "metadata": {
  "kernelspec": {
   "display_name": "Python 3",
   "language": "python",
   "name": "python3"
  },
  "language_info": {
   "codemirror_mode": {
    "name": "ipython",
    "version": 3
   },
   "file_extension": ".py",
   "mimetype": "text/x-python",
   "name": "python",
   "nbconvert_exporter": "python",
   "pygments_lexer": "ipython3",
   "version": "3.6.2"
  }
 },
 "nbformat": 4,
 "nbformat_minor": 2
}
