{
 "cells": [
  {
   "cell_type": "code",
   "execution_count": 1,
   "metadata": {},
   "outputs": [],
   "source": [
    "import numpy as np\n",
    "import matplotlib.pyplot as plt\n",
    "from scipy.optimize import leastsq\n",
    "%matplotlib inline"
   ]
  },
  {
   "cell_type": "markdown",
   "metadata": {},
   "source": [
    "# Week 5 Questions"
   ]
  },
  {
   "cell_type": "markdown",
   "metadata": {},
   "source": [
    "## Q1.Simple 1D Integration with Euler\n",
    "\n",
    "Consider the differential equation defined by: $f(x) = \\frac{dx}{dt} = -5x$. The analytical solution to this is then: $x(t) = Ae^{-5t}$. Consider the initial condition: $x(0) = 1$. Then the analytical solution is $x(t) = e^{-5t}$. \n",
    "\n",
    "a) Solve this ODE from t = 0 to t = 2 using euler's method and plot the results.\n",
    "\n",
    "b) Compare the final result at t = 2 to the analytical result for t = 2. Caclulate the error.\n",
    "\n",
    "c) Compute the error for 5-8 different values of dt. Store the results for later use."
   ]
  },
  {
   "cell_type": "markdown",
   "metadata": {},
   "source": [
    "## Q2. The midpoint method\n",
    "\n",
    "We defined Euler's method in general as:\n",
    "\n",
    "$$ x_{n+1} = x_n + f(x) \\Delta t$$\n",
    "\n",
    "Where our ODE is of the form: $\\frac{dx}{dt} = f(x) $. \n",
    "\n",
    "Then in the same way we can define a more advanced method, the midpoint method, which uses a better centered approximation of the slope of the function. It is defined as follows:\n",
    "\n",
    "$$ x_{n+1} = x_n + \\Delta t \\ f\\left(x_n + \\frac{\\Delta t}{2} \\ f(x_n) \\right) $$\n",
    "\n",
    "a) Implement the midpoint integrator and test it with the same function as in Q1.\n",
    "\n",
    "b) Repeat all the steps in Q1 for the midpoint integrator\n",
    "\n",
    "c) Plot err vs dt for both integrators on the same plot. Compare the shape and birefly discuss what this means about the error scaling of the integrator."
   ]
  },
  {
   "cell_type": "markdown",
   "metadata": {},
   "source": [
    "## Q3. Analysis of the Kinematics Solution\n",
    "\n",
    "As our first example of numerical integration, we solved the solution of a particle launched at a certain angle and velocity. We want to check that the results follow what we expect given what we know about kinematics. \n",
    "\n",
    "We will take a graphical approach. Recreate the solution and plot the results of y vs t. Then using the methods from the previous weeks fit the curve. Look at the parameters of the fit and see if you recognize the coefficients. \n",
    "\n",
    "The function is a parabola so it should be able to be fit by some function of the form: \n",
    "\n",
    "$$ y = a_1 t^2 + a_2 t + a_3 $$\n",
    "\n",
    "Your job is to figure out correct values for $a_1$, $a_2$, $a_3$ and comment on whether the results make sense."
   ]
  },
  {
   "cell_type": "markdown",
   "metadata": {},
   "source": [
    "## Q4. Symplectic Orbit Integration\n",
    "\n",
    "So far we have only used non-symplectic integration methods. We will talk more about what symplectic integration means mathematically next week but for now I want you to see what the result of it it. For this we will use the most simple symplectic integrator, the Leapfrog method. This method is very simple but also very powerful and commonly used in questions where we want to ensure energy conservation. This problem explores this method.\n",
    "\n",
    "The Leapfrog method can be written as:\n",
    "\n",
    "$$ x_{n+1} = x_n + vx \\frac{\\Delta t}{2} $$\n",
    "\n",
    "$$ y_{n+1} = y_n + vy \\frac{\\Delta t}{2} $$\n",
    "\n",
    "$$ vx_{n+1} = vx_n + a_x \\Delta t $$\n",
    "\n",
    "$$ vy_{n+1} = vy_n + a_y \\Delta t $$\n",
    "\n",
    "$$ x_{n+1} = x_n + vx \\frac{\\Delta t}{2} $$\n",
    "\n",
    "$$ y_{n+1} = y_n + vy \\frac{\\Delta t}{2} $$\n",
    "\n",
    "As you can see it is almost as simple as the Euler method but it involves a symmetric integration of the position around the velocity. This symmetry leads to much better results.\n",
    "\n",
    "a) Implement the leapfrog method for use in the orbit problem.\n",
    "\n",
    "b) Compare the results of the planetary orbit performed with leapfrog vs Euler. How long can you make the timestep before you start seeing deviations from a circular orbit?"
   ]
  },
  {
   "cell_type": "code",
   "execution_count": null,
   "metadata": {},
   "outputs": [],
   "source": []
  }
 ],
 "metadata": {
  "kernelspec": {
   "display_name": "Python 3",
   "language": "python",
   "name": "python3"
  },
  "language_info": {
   "codemirror_mode": {
    "name": "ipython",
    "version": 3
   },
   "file_extension": ".py",
   "mimetype": "text/x-python",
   "name": "python",
   "nbconvert_exporter": "python",
   "pygments_lexer": "ipython3",
   "version": "3.6.2"
  }
 },
 "nbformat": 4,
 "nbformat_minor": 2
}
