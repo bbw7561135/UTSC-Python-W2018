{
 "cells": [
  {
   "cell_type": "code",
   "execution_count": 42,
   "metadata": {},
   "outputs": [],
   "source": [
    "import numpy as np\n",
    "import matplotlib.pyplot as plt\n",
    "from scipy.optimize import leastsq\n",
    "import sympy as sp\n",
    "%matplotlib inline"
   ]
  },
  {
   "cell_type": "markdown",
   "metadata": {},
   "source": [
    "import numpy as np\n",
    "import matplotlib.pyplot as plt\n",
    "from scipy.optimize import leastsq\n",
    "%matplotlib inline"
   ]
  },
  {
   "cell_type": "markdown",
   "metadata": {},
   "source": [
    "This week I have divided the questions into several categories. There are probably more than most people will finish in the hour so have a look through and try to pick ones that you think will help you learn more. They are intended to cover many topics we have worked on."
   ]
  },
  {
   "cell_type": "markdown",
   "metadata": {},
   "source": [
    "## Section 1: Basic Python"
   ]
  },
  {
   "cell_type": "markdown",
   "metadata": {},
   "source": [
    "### Q1.1 Merge Sort\n",
    "\n",
    "In this question your task is to write a function that takes in 2 np arrays of numbers and returns a single np array which contains all the numbers from both sorted in increasing order. You are not allowed to use the methods `sort` `np.sort` etc. You must do this yourself using loops and flow control.\n",
    "\n",
    "Ex. Given [1, 6, 3] and [4, 5, 2, 7] we should get:\n",
    "\n",
    "[1, 3, 2, 4, 5, 6, 7]"
   ]
  },
  {
   "cell_type": "code",
   "execution_count": 3,
   "metadata": {},
   "outputs": [],
   "source": [
    "def merge_sort(l1, l2):\n",
    "    \"\"\"\n",
    "    l1 and l2 are np arrays. Return a new np array that contains the contents\n",
    "    of both arrays where the final array is sorted in increasing order.\n",
    "    \"\"\""
   ]
  },
  {
   "cell_type": "markdown",
   "metadata": {},
   "source": [
    "### Q1.2 Solving a Convergent Equation Numerically\n",
    "\n",
    "Some equations we come accross cannot be simplified enough to isolate for the desired variable and solve it analytically. In this case, as long as we know that the equation is convergent, we can iterate until we find a solution. \n",
    "\n",
    "Here we want to solve the equation:"
   ]
  },
  {
   "cell_type": "markdown",
   "metadata": {},
   "source": [
    "$$ n - e\\sin(n) = M $$"
   ]
  },
  {
   "cell_type": "markdown",
   "metadata": {},
   "source": [
    "Where $e \\in (0, 1)$ and $M \\in (0, 2\\pi)$ are constants (you can choose the values however you want)."
   ]
  },
  {
   "cell_type": "markdown",
   "metadata": {},
   "source": [
    "There are many ways to solve this, the simplest is with an iterative approach. First rearrange the expression to:"
   ]
  },
  {
   "cell_type": "markdown",
   "metadata": {},
   "source": [
    "$$ n = M + e\\sin(n) $$"
   ]
  },
  {
   "cell_type": "markdown",
   "metadata": {},
   "source": [
    "Then to solve this iteratively, we consider the sequence:"
   ]
  },
  {
   "cell_type": "markdown",
   "metadata": {},
   "source": [
    "$$ n^{(i + 1)} = M + e \\sin\\left(n^{(i)}\\right) $$"
   ]
  },
  {
   "cell_type": "markdown",
   "metadata": {},
   "source": [
    "And let $n^{(0)} = M$. Then iterate and find each subsequent value of n until the values converge. \n",
    "\n",
    "Converge means that the number is the same to about the number of digits python shows you. Usually the last digit will fluctuate so the maximal convergence would be that all but the last decimal place are constant. \n",
    "\n",
    "Change the number of iterations to explore the behaviour and see how changing the values of $e$ and $M$ affect the convergence."
   ]
  },
  {
   "cell_type": "markdown",
   "metadata": {},
   "source": [
    "### Q1.3 Finding the Roots of and Equation\n",
    "\n",
    "We looked at the bisection root finding method in one of the previous sessions and you were encouraged to implement Newton's method as an assignment. Use either one of the methods in order to complete this question.\n",
    "\n",
    "We want to find the the intersection with the x axis. That is we want to find the value of x when:"
   ]
  },
  {
   "cell_type": "markdown",
   "metadata": {},
   "source": [
    "$$ f(x) = e^{x} \\ln(x) - x^2 = 0 $$ "
   ]
  },
  {
   "cell_type": "markdown",
   "metadata": {},
   "source": [
    "To solve this problem complete the following:"
   ]
  },
  {
   "cell_type": "markdown",
   "metadata": {},
   "source": [
    "**a)** Define a python function, f, that returns the value of f(x) given a value of x."
   ]
  },
  {
   "cell_type": "markdown",
   "metadata": {},
   "source": [
    "**b)** Plot the function to approximate where the 0 of the function is graphically."
   ]
  },
  {
   "cell_type": "markdown",
   "metadata": {},
   "source": [
    "**c)** Use the root finding method of your choice (bisection or Newton) to find the value of the root to machine precision."
   ]
  },
  {
   "cell_type": "markdown",
   "metadata": {},
   "source": [
    "## Section 2: Data Analysis"
   ]
  },
  {
   "cell_type": "markdown",
   "metadata": {},
   "source": [
    "### Q2.1 Fitting Data with Error Analysis\n",
    "\n",
    "In this question I will give you some sample data and your job is to find an appropriate fit function, fit the data using scipy least square fit and then analyze RMS error in the best fit curve. \n",
    "\n",
    "We did several examples of this so refer to those notes if you are not sure about the syntax."
   ]
  },
  {
   "cell_type": "code",
   "execution_count": 31,
   "metadata": {},
   "outputs": [],
   "source": [
    "# This is the data you need to fit\n",
    "x = np.array([0., 0.26315789, 0.52631579, 0.78947368, 1.05263158,1.31578947, 1.57894737,\n",
    "              1.84210526, 2.10526316, 2.36842105,2.63157895, 2.89473684, 3.15789474,\n",
    "              3.42105263, 3.68421053,3.94736842, 4.21052632, 4.47368421, 4.73684211, 5.])\n",
    "\n",
    "y = np.array([4.78138162, 2.33131727, 0.97613837, 0.78196249, 0.20193565,\n",
    "              0.34987065, 0.42672317, 0.03884814, 0.34405926, 0.08835883,\n",
    "              0.15117039, 0.44583307, 0.04770623, 0.17592253, 0.41621695,\n",
    "              0.29175142, 0.13319173, 0.06514803, 0.42419519, 0.31615752])"
   ]
  },
  {
   "cell_type": "markdown",
   "metadata": {},
   "source": [
    "Complete the following steps:\n",
    "    \n",
    "**a)** Plot the data as a scatter plot.\n",
    "\n",
    "**b)** Create a function for the best fit curve for the data.\n",
    "\n",
    "**c)** Calculate the RMS error in the best curve."
   ]
  },
  {
   "cell_type": "markdown",
   "metadata": {},
   "source": [
    "## Section 3: Calculus and Linear Algebra"
   ]
  },
  {
   "cell_type": "markdown",
   "metadata": {},
   "source": [
    "### Q3.1 Solving a Matrix Equation\n",
    "\n",
    "Use the linear algebra tools in numpy to solve the following matrix equation:\n",
    "\n",
    "```\n",
    "[[7], = [[2, 5], * [[x],\n",
    " [4]]    [4, 6]]    [y]]\n",
    "```\n",
    "\n",
    "For x and y."
   ]
  },
  {
   "cell_type": "markdown",
   "metadata": {},
   "source": [
    "### Q3.2 Fiding Eigenvalues and Eigenvectors and Checking Orthogonality\n",
    "\n",
    "Find the eigenvalues and eigenvectors of the following $2\\times2$ matrix. Check if the eigenvectors are orthogonal.\n",
    "\n",
    "```\n",
    "[[0, 1],\n",
    " [1, 0]\n",
    "```"
   ]
  },
  {
   "cell_type": "markdown",
   "metadata": {},
   "source": [
    "### Q3.3 Integration and with Sympy\n",
    "\n",
    "Use Sympy to solve the following double integral:"
   ]
  },
  {
   "cell_type": "markdown",
   "metadata": {},
   "source": [
    "$$ \\int_{0}^{4}\\int_{1}^{\\sqrt{x-1}} y dy dx$$"
   ]
  },
  {
   "cell_type": "markdown",
   "metadata": {},
   "source": [
    "## Section 4: Numerical Integration"
   ]
  },
  {
   "cell_type": "markdown",
   "metadata": {},
   "source": [
    "### Q4.1 Computing Energy Error in Solar System Integration\n",
    "\n",
    "Add to the code we wrote to integrate the solar system to calculate the conservation of energy for the earth. The orbital energy is computed as follows:"
   ]
  },
  {
   "cell_type": "markdown",
   "metadata": {},
   "source": [
    "$$ E = T + U = \\frac{1}{2} m_e v^2 - \\sum_{i = 0, i \\ne e}^{n} \\left( \\frac{Gm_e m_i}{|r_e - r_i|} \\right) $$"
   ]
  },
  {
   "cell_type": "markdown",
   "metadata": {},
   "source": [
    "Where the sum means to sum the effect of the potential from all of the other planets and the sun. "
   ]
  },
  {
   "cell_type": "markdown",
   "metadata": {},
   "source": [
    "To calculate the error, we must do the following:\n",
    "\n",
    "**a)** Before you start the calculation, calculate and store the initial energy of the earth. \n",
    "\n",
    "**b)** Each step of the integration, calculate the energy and then the error, where the error can be calculated as: $(e_n - e_{init}) / e_{init}$ where $e_{init}$ is the initial energy and $e_n$ is the energy on the current step. Store the results in an array so we can analyze it after.\n",
    "\n",
    "**c)** Plot the values of error (from the array you made above) vs the time of the integration. Observe the result and see if you can comment of the physics of it. Try it with different timesteps and with Euler and Leapfrog. Which method is better and what happens when the timestep changes?\n",
    "\n",
    "**d)** Now do it for Mercury instead of Earth. What changes and why? How could we fix this?"
   ]
  }
 ],
 "metadata": {
  "kernelspec": {
   "display_name": "Python 3",
   "language": "python",
   "name": "python3"
  },
  "language_info": {
   "codemirror_mode": {
    "name": "ipython",
    "version": 3
   },
   "file_extension": ".py",
   "mimetype": "text/x-python",
   "name": "python",
   "nbconvert_exporter": "python",
   "pygments_lexer": "ipython3",
   "version": "3.6.2"
  }
 },
 "nbformat": 4,
 "nbformat_minor": 2
}
