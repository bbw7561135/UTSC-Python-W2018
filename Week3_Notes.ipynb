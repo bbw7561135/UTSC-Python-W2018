{
 "cells": [
  {
   "cell_type": "code",
   "execution_count": 15,
   "metadata": {},
   "outputs": [],
   "source": [
    "import numpy as np\n",
    "import matplotlib.pyplot as plt\n",
    "from scipy.optimize import leastsq\n",
    "from math import factorial\n",
    "import random\n",
    "%matplotlib inline"
   ]
  },
  {
   "cell_type": "markdown",
   "metadata": {},
   "source": [
    "# Week 2 Notes\n",
    "### Fitting Functions, Numerical Derivatives, Integrals, Numerical Error"
   ]
  },
  {
   "cell_type": "markdown",
   "metadata": {},
   "source": [
    "## Fiting a function"
   ]
  },
  {
   "cell_type": "markdown",
   "metadata": {},
   "source": [
    "Last week, we wrote a fit function outselves. It should have looked something like this:"
   ]
  },
  {
   "cell_type": "markdown",
   "metadata": {},
   "source": [
    "To solve this matrix equation we must solve the expression:\n",
    "\n",
    "$$ \n",
    "\\begin{bmatrix}\n",
    "    b \\\\\n",
    "    m\n",
    "\\end{bmatrix}\n",
    " = (X^T X)^{-1} X^T \n",
    " \\begin{bmatrix}\n",
    "    y_1 \\\\\n",
    "    y_2\n",
    "\\end{bmatrix}\n",
    "$$\n",
    "\n",
    "Where X is the matrix of measured values and ones shown above and $y_1$, $y_2$ are the measured y values."
   ]
  },
  {
   "cell_type": "code",
   "execution_count": 15,
   "metadata": {},
   "outputs": [
    {
     "data": {
      "text/plain": [
       "(-0.80921806538588004, 3.1649814627569866)"
      ]
     },
     "execution_count": 15,
     "metadata": {},
     "output_type": "execute_result"
    }
   ],
   "source": [
    "def find_params(X, y):\n",
    "    \"\"\"\n",
    "    Solve the matrix equation listed above and return a list: [b, m]\n",
    "    \"\"\"\n",
    "    xt = X.T\n",
    "    xtXinv_xt = np.linalg.inv(xt @ X) @ xt\n",
    "    return xtXinv_xt.dot(y)\n",
    "    \n",
    "    \n",
    "# Once you have written the function, text it with this matrix and vector. \n",
    "# Store the value b and m as a variable for the next step.\n",
    "x = [3.2, 6.7, 2.3, 5.2, 4.7]\n",
    "x = np.array([[1, i] for i in x])\n",
    "y = np.array([8.4, 20.3, 7.1, 16.3, 13.8])\n",
    "\n",
    "b, m = find_params(X, y)\n",
    "b, m"
   ]
  },
  {
   "cell_type": "code",
   "execution_count": 17,
   "metadata": {},
   "outputs": [],
   "source": [
    "def f(x, b, m):\n",
    "    return m*x + b"
   ]
  },
  {
   "cell_type": "code",
   "execution_count": 20,
   "metadata": {},
   "outputs": [
    {
     "data": {
      "text/plain": [
       "[<matplotlib.lines.Line2D at 0x10ce6af98>]"
      ]
     },
     "execution_count": 20,
     "metadata": {},
     "output_type": "execute_result"
    },
    {
     "data": {
      "image/png": "[encoded data removed]",
      "text/plain": [
       "<matplotlib.figure.Figure at 0x10cdc5470>"
      ]
     },
     "metadata": {},
     "output_type": "display_data"
    }
   ],
   "source": [
    "x_rng = np.linspace(0, 10, 100)\n",
    "\n",
    "# Starter code to make the plot\n",
    "fig, ax = plt.subplots()\n",
    "ax.scatter(x, y)\n",
    "ax.plot(x_rng, f(x_rng, b, m), 'g')"
   ]
  },
  {
   "cell_type": "markdown",
   "metadata": {},
   "source": [
    "This is called a linear least squares fit. But it seems tedious to code it each time so from now on, we will use a package from scipy to do it instead."
   ]
  },
  {
   "cell_type": "markdown",
   "metadata": {},
   "source": [
    "Let's fit the same fumction using scipy:"
   ]
  },
  {
   "cell_type": "code",
   "execution_count": 59,
   "metadata": {},
   "outputs": [
    {
     "name": "stdout",
     "output_type": "stream",
     "text": [
      "[ 3.16498143 -0.80921788]\n"
     ]
    },
    {
     "data": {
      "text/plain": [
       "<matplotlib.collections.PathCollection at 0x10fcee080>"
      ]
     },
     "execution_count": 59,
     "metadata": {},
     "output_type": "execute_result"
    },
    {
     "data": {
      "image/png": "[encoded data removed]",
      "text/plain": [
       "<matplotlib.figure.Figure at 0x10fc4a2b0>"
      ]
     },
     "metadata": {},
     "output_type": "display_data"
    }
   ],
   "source": [
    "y_dat = np.array([8.4, 20.3, 7.1, 16.3, 13.8])\n",
    "x_dat = np.array([3.2, 6.7, 2.3, 5.2, 4.7])\n",
    "\n",
    "def fit_func(p, x):\n",
    "    # Now p is an array of parameters\n",
    "    return p[0]*x + p[1]\n",
    "\n",
    "def err_func(p, x, y):\n",
    "    return y - fit_func(p, x)\n",
    "\n",
    "p0 = [1., 1.]\n",
    "p1, success = leastsq(err_func, p0[:], args=(x_dat, y_dat))\n",
    "print(p1)\n",
    "\n",
    "x = np.linspace(0, 8, 100)\n",
    "fig, ax = plt.subplots()\n",
    "ax.plot(x, fit_func(p1, x))\n",
    "ax.scatter(x_dat, y_dat, color='orange')"
   ]
  },
  {
   "cell_type": "markdown",
   "metadata": {},
   "source": [
    "We can also modify it to try fitting other types of functions easily. For example, we could try fitting a quadratic function."
   ]
  },
  {
   "cell_type": "code",
   "execution_count": 60,
   "metadata": {},
   "outputs": [
    {
     "name": "stdout",
     "output_type": "stream",
     "text": [
      "[ 0.06208314  2.61090991  0.27953665]\n"
     ]
    },
    {
     "data": {
      "text/plain": [
       "<matplotlib.collections.PathCollection at 0x10fd48fd0>"
      ]
     },
     "execution_count": 60,
     "metadata": {},
     "output_type": "execute_result"
    },
    {
     "data": {
      "image/png": "[encoded data removed]",
      "text/plain": [
       "<matplotlib.figure.Figure at 0x10fc30ba8>"
      ]
     },
     "metadata": {},
     "output_type": "display_data"
    }
   ],
   "source": [
    "y_dat = np.array([8.4, 20.3, 7.1, 16.3, 13.8])\n",
    "x_dat = np.array([3.2, 6.7, 2.3, 5.2, 4.7])\n",
    "\n",
    "def fit_func(p, x):\n",
    "    # Now p is an array of parameters\n",
    "    return p[0]*x**2 + p[1]*x + p[2]\n",
    "\n",
    "def err_func(p, x, y):\n",
    "    return y - fit_func(p, x)\n",
    "\n",
    "p0 = [1., 1., 1.]\n",
    "p1, success = leastsq(err_func, p0[:], args=(x_dat, y_dat))\n",
    "print(p1)\n",
    "\n",
    "x = np.linspace(0, 8, 100)\n",
    "fig, ax = plt.subplots()\n",
    "ax.plot(x, fit_func(p1, x))\n",
    "ax.scatter(x_dat, y_dat, color='orange')"
   ]
  },
  {
   "cell_type": "markdown",
   "metadata": {},
   "source": [
    "# Derivatives\n",
    "\n",
    "We saw the first example of a simple numerical derivative in the problems next week. For this simplest form, we simply apply the definition of the derivative for a finite $h$: "
   ]
  },
  {
   "cell_type": "code",
   "execution_count": 74,
   "metadata": {},
   "outputs": [],
   "source": [
    "# The sample function\n",
    "\n",
    "def f(x):\n",
    "    return np.sin(x)"
   ]
  },
  {
   "cell_type": "code",
   "execution_count": 86,
   "metadata": {},
   "outputs": [],
   "source": [
    "# Simplest numerical derivative\n",
    "\n",
    "def deriv1(F, a, h):\n",
    "    '''\n",
    "    Given a function F, take the derivative at the point a.\n",
    "    Use h as the finite \"stepsize\".\n",
    "    '''\n",
    "    return (F(a + h) - F(a)) / h"
   ]
  },
  {
   "cell_type": "code",
   "execution_count": 106,
   "metadata": {},
   "outputs": [
    {
     "data": {
      "text/plain": [
       "0.99998333341666645"
      ]
     },
     "execution_count": 106,
     "metadata": {},
     "output_type": "execute_result"
    }
   ],
   "source": [
    "deriv1(f, 0, 0.01)"
   ]
  },
  {
   "cell_type": "markdown",
   "metadata": {},
   "source": [
    "Let's try a different method that uses a centered different approximation to estimate the derivative. We write this one mathematicallly as:\n",
    "\n",
    "$$ \\frac{\\mathop{d}}{\\mathop{dx}} f(x) = \\lim_{h \\to 0} \\frac{f(a + h) - f(a - h)}{2h}$$ \n",
    "\n",
    "In python this is then:"
   ]
  },
  {
   "cell_type": "code",
   "execution_count": 64,
   "metadata": {},
   "outputs": [],
   "source": [
    "def deriv2(F, a, h):\n",
    "    '''\n",
    "    Given a function F, take the derivative at the point a.\n",
    "    Use h as the finite \"stepsize\".\n",
    "    '''\n",
    "    return (F(a + h) - F(a - h)) / (2 * h)"
   ]
  },
  {
   "cell_type": "markdown",
   "metadata": {},
   "source": [
    "We can compare the two methods for the same function at the same point:"
   ]
  },
  {
   "cell_type": "code",
   "execution_count": 105,
   "metadata": {},
   "outputs": [
    {
     "data": {
      "text/plain": [
       "(0.00050016662504320558,\n",
       " 1.6666669193139672e-07,\n",
       " 0.70675310997425633,\n",
       " 0.70710666333539951)"
      ]
     },
     "execution_count": 105,
     "metadata": {},
     "output_type": "execute_result"
    }
   ],
   "source": [
    "a = np.pi/4\n",
    "exact = np.cos(np.pi/4)\n",
    "\n",
    "der1 = deriv1(f, a, 0.001)\n",
    "der2 = deriv2(f, a, 0.001)\n",
    "\n",
    "err1 = abs(exact - der1) / exact\n",
    "err2 = abs(exact - der2) / exact\n",
    "\n",
    "err1, err2, der1, der2"
   ]
  },
  {
   "cell_type": "markdown",
   "metadata": {},
   "source": [
    "There are many other ways to take derivatives numerically and many of them have even better error than this. You can look that up if you are curious and try to implement a higher order method. \n",
    "\n",
    "When we talk about the order of the method, we want to know how it scales as we change $h$. \n",
    "\n",
    "Let's plot the results of the error for many different values of $h$ to see how it behaves as $h$ changes."
   ]
  },
  {
   "cell_type": "code",
   "execution_count": 107,
   "metadata": {},
   "outputs": [],
   "source": [
    "h_lst = np.linspace(0.001, 0.1, 30)\n",
    "a = np.pi/4\n",
    "exact = np.cos(np.pi/4)\n",
    "\n",
    "err1 = []\n",
    "err2 = []\n",
    "\n",
    "for h in h_lst:\n",
    "    der1 = deriv1(f, a, h)\n",
    "    der2 = deriv2(f, a, h)\n",
    "\n",
    "    err1.append(abs(exact - der1) / exact)\n",
    "    err2.append(abs(exact - der2) / exact)"
   ]
  },
  {
   "cell_type": "code",
   "execution_count": 117,
   "metadata": {},
   "outputs": [
    {
     "data": {
      "text/plain": [
       "[<matplotlib.lines.Line2D at 0x110844320>]"
      ]
     },
     "execution_count": 117,
     "metadata": {},
     "output_type": "execute_result"
    },
    {
     "data": {
      "image/png": "[encoded data removed]",
      "text/plain": [
       "<matplotlib.figure.Figure at 0x110683c18>"
      ]
     },
     "metadata": {},
     "output_type": "display_data"
    }
   ],
   "source": [
    "fig, (ax1, ax2) = plt.subplots(1, 2, figsize=(15, 6))\n",
    "ax1.plot(h_lst, err1)\n",
    "ax2.plot(h_lst, err2)"
   ]
  },
  {
   "cell_type": "markdown",
   "metadata": {},
   "source": [
    "The second plot looks like it may scale quadratically. Try changing:\n",
    "\n",
    "```\n",
    "ax2.plot(h_lst, err2)\n",
    "```\n",
    "\n",
    "to \n",
    "\n",
    "```\n",
    "ax2.plot(h_lst**2, err2)\n",
    "```\n",
    "\n",
    "Since that is now linear, this algorithm scales quadratically. We can then say that:\n",
    "\n",
    "deriv1 is order 1 or $O(1)$ and deriv2 is order 2 or $O(2)$.\n",
    "\n",
    "When using algorithms, we will frequently talk about the order of the algorithm's error scaling. This is a very important concept in scientific computing."
   ]
  },
  {
   "cell_type": "markdown",
   "metadata": {},
   "source": [
    "## Integrals"
   ]
  },
  {
   "cell_type": "markdown",
   "metadata": {},
   "source": [
    "We will look at two methods you have probably seen in calculus, the rectangle rule and the trapezoid rule. "
   ]
  },
  {
   "cell_type": "code",
   "execution_count": 165,
   "metadata": {},
   "outputs": [],
   "source": [
    "def func(x):\n",
    "    return x**2"
   ]
  },
  {
   "cell_type": "code",
   "execution_count": 179,
   "metadata": {},
   "outputs": [],
   "source": [
    "def rectangle(F, a, b, N):\n",
    "    '''\n",
    "    Given a function to integrate F, the region on which to integrate [a,b]\n",
    "    and the number of divisions on the interval, N, find the value of the integral.\n",
    "    '''\n",
    "    # Find the size of the intervals\n",
    "    size = abs(b - a) / N\n",
    "    \n",
    "    # Store the total sum\n",
    "    tot = 0.\n",
    "    \n",
    "    for i in range(N):\n",
    "        tot += F(a + size*i) * size\n",
    "        \n",
    "    return tot"
   ]
  },
  {
   "cell_type": "code",
   "execution_count": 184,
   "metadata": {},
   "outputs": [
    {
     "data": {
      "text/plain": [
       "2.31835"
      ]
     },
     "execution_count": 184,
     "metadata": {},
     "output_type": "execute_result"
    }
   ],
   "source": [
    "rectangle(func, 1, 2, 100)"
   ]
  },
  {
   "cell_type": "markdown",
   "metadata": {},
   "source": [
    "Now let's try the trapezoid rule"
   ]
  },
  {
   "cell_type": "code",
   "execution_count": 181,
   "metadata": {},
   "outputs": [],
   "source": [
    "def trapezoid(F, a, b, N):\n",
    "    # Find the size of the intervals\n",
    "    size = abs(b - a) / N\n",
    "    \n",
    "    tot = 0.\n",
    "    \n",
    "    for i in range(N):\n",
    "        f1 = F(a + size * i)\n",
    "        f2 = F(a + size * (i + 1))\n",
    "        \n",
    "        tot += size * ((f1 + f2) / 2)\n",
    "        \n",
    "    return tot"
   ]
  },
  {
   "cell_type": "code",
   "execution_count": 183,
   "metadata": {},
   "outputs": [
    {
     "data": {
      "text/plain": [
       "2.3333500000000003"
      ]
     },
     "execution_count": 183,
     "metadata": {},
     "output_type": "execute_result"
    }
   ],
   "source": [
    "trapezoid(func, 1, 2, 100)"
   ]
  },
  {
   "cell_type": "markdown",
   "metadata": {},
   "source": [
    "The error analysis will be left to one of your exercises. "
   ]
  },
  {
   "cell_type": "markdown",
   "metadata": {},
   "source": [
    "## In 2D"
   ]
  },
  {
   "cell_type": "markdown",
   "metadata": {},
   "source": [
    "Calculating integrals in 2D space is much harder. There are some ways we can do this, but the easiest is to use a Monte Carlo method and sample the area by generating random points. We will use the module `random` for this. "
   ]
  },
  {
   "cell_type": "code",
   "execution_count": 12,
   "metadata": {},
   "outputs": [],
   "source": [
    "def area_unit_circle(N):\n",
    "    '''\n",
    "    Sample the area of a circle of radius 1 using N points.\n",
    "    '''\n",
    "    points_in = 0\n",
    "    \n",
    "    # Find area of 1 quadrant (positive x and y)\n",
    "    for i in range(N):\n",
    "        # A random number from (0, 1)\n",
    "        x = random.random()\n",
    "        y = random.random()\n",
    "                \n",
    "        dist = np.sqrt(x**2 + y**2)\n",
    "        \n",
    "        if dist <= 1.:\n",
    "            points_in += 1\n",
    "     \n",
    "    # Since we have only 1 quadrant, multiply by 4\n",
    "    return 4 * points_in / N\n",
    "    "
   ]
  },
  {
   "cell_type": "code",
   "execution_count": 14,
   "metadata": {},
   "outputs": [
    {
     "data": {
      "text/plain": [
       "3.1372"
      ]
     },
     "execution_count": 14,
     "metadata": {},
     "output_type": "execute_result"
    }
   ],
   "source": [
    "area_unit_circle(10000)"
   ]
  },
  {
   "cell_type": "code",
   "execution_count": null,
   "metadata": {},
   "outputs": [],
   "source": []
  }
 ],
 "metadata": {
  "kernelspec": {
   "display_name": "Python 3",
   "language": "python",
   "name": "python3"
  },
  "language_info": {
   "codemirror_mode": {
    "name": "ipython",
    "version": 3
   },
   "file_extension": ".py",
   "mimetype": "text/x-python",
   "name": "python",
   "nbconvert_exporter": "python",
   "pygments_lexer": "ipython3",
   "version": "3.6.2"
  }
 },
 "nbformat": 4,
 "nbformat_minor": 2
}
