{
 "cells": [
  {
   "cell_type": "code",
   "execution_count": 2,
   "metadata": {},
   "outputs": [],
   "source": [
    "import numpy as np\n",
    "import matplotlib.pyplot as plt\n",
    "from scipy.optimize import leastsq\n",
    "import sympy as sp\n",
    "import pandas as pd\n",
    "%matplotlib inline"
   ]
  },
  {
   "cell_type": "markdown",
   "metadata": {},
   "source": [
    "This week I have divided the questions into several categories. There are probably more than most people will finish in the hour so have a look through and try to pick ones that you think will help you learn more. They are intended to cover many topics we have worked on."
   ]
  },
  {
   "cell_type": "markdown",
   "metadata": {},
   "source": [
    "## Section 1: Basic Python"
   ]
  },
  {
   "cell_type": "markdown",
   "metadata": {},
   "source": [
    "### Q1.1 Merge Sort\n",
    "\n",
    "In this question your task is to write a function that takes in 2 np arrays of numbers and returns a single np array which contains all the numbers from both sorted in increasing order. You are not allowed to use the methods `sort` `np.sort` etc. You must do this yourself using loops and flow control.\n",
    "\n",
    "Ex. Given [1, 6, 3] and [4, 5, 2, 7] we should get:\n",
    "\n",
    "[1, 3, 2, 4, 5, 6, 7]"
   ]
  },
  {
   "cell_type": "code",
   "execution_count": 22,
   "metadata": {},
   "outputs": [],
   "source": [
    "def merge_sort(l1, l2):\n",
    "    \"\"\"\n",
    "    l1 and l2 are np arrays. Return a new np array that contains the contents\n",
    "    of both arrays where the final array is sorted in increasing order.\n",
    "    \"\"\"\n",
    "    # There are many ways to do this.\n",
    "    # The most common (and best balance of easy coding to efficiency)\n",
    "    # Is to sort each sublist and then merge them\n",
    "    for lst in (l1, l2):\n",
    "        # I will sort each list as we did in previous week\n",
    "        for i in range(len(lst)):\n",
    "            small = lst[i]\n",
    "            ind = i\n",
    "            for j in range(i+1, len(lst)):\n",
    "                if lst[j] < small:\n",
    "                    small = lst[j]\n",
    "                    ind = j\n",
    "                    \n",
    "            # Now swap\n",
    "            lst[ind] = lst[i]\n",
    "            lst[i] = small\n",
    "    \n",
    "    # Now that they are both sorted, merge them\n",
    "    new = []\n",
    "    while len(l1) > 0 or len(l2) > 0:\n",
    "        if len(l1) == 0:\n",
    "            for item in l2:\n",
    "                new.append(item)\n",
    "                l2 = l2[1:]\n",
    "                \n",
    "        elif len(l2) == 0:\n",
    "            for item in l1:\n",
    "                new.append(item)\n",
    "                l1 = l1[1:]\n",
    "                \n",
    "        elif l1[0] < l2[0]:\n",
    "            new.append(l1[0])\n",
    "            l1 = l1[1:]\n",
    "            \n",
    "        else:\n",
    "            new.append(l2[0])\n",
    "            l2 = l2[1:]\n",
    "        \n",
    "    return np.array(new)"
   ]
  },
  {
   "cell_type": "code",
   "execution_count": 23,
   "metadata": {},
   "outputs": [
    {
     "data": {
      "text/plain": [
       "array([1, 2, 3, 4, 5, 6, 7])"
      ]
     },
     "execution_count": 23,
     "metadata": {},
     "output_type": "execute_result"
    }
   ],
   "source": [
    "a = np.array([1, 6, 3])\n",
    "b = np.array([4, 5, 2, 7])\n",
    "\n",
    "merge_sort(a, b)"
   ]
  },
  {
   "cell_type": "markdown",
   "metadata": {},
   "source": [
    "### Q1.2 Solving a Convergent Equation Numerically\n",
    "\n",
    "Some equations we come accross cannot be simplified enough to isolate for the desired variable and solve it analytically. In this case, as long as we know that the equation is convergent, we can iterate until we find a solution. \n",
    "\n",
    "Here we want to solve the equation:"
   ]
  },
  {
   "cell_type": "markdown",
   "metadata": {},
   "source": [
    "$$ n - e\\sin(n) = M $$"
   ]
  },
  {
   "cell_type": "markdown",
   "metadata": {},
   "source": [
    "Where $e \\in (0, 1)$ and $M \\in (0, 2\\pi)$ are constants (you can choose the values however you want)."
   ]
  },
  {
   "cell_type": "markdown",
   "metadata": {},
   "source": [
    "There are many ways to solve this, the simplest is with an iterative approach. First rearrange the expression to:"
   ]
  },
  {
   "cell_type": "markdown",
   "metadata": {},
   "source": [
    "$$ n = M + e\\sin(n) $$"
   ]
  },
  {
   "cell_type": "markdown",
   "metadata": {},
   "source": [
    "Then to solve this iteratively, we consider the sequence:"
   ]
  },
  {
   "cell_type": "markdown",
   "metadata": {},
   "source": [
    "$$ n^{(i + 1)} = M + e \\sin\\left(n^{(i)}\\right) $$"
   ]
  },
  {
   "cell_type": "markdown",
   "metadata": {},
   "source": [
    "And let $n^{(0)} = M$. Then iterate and find each subsequent value of n until the values converge. \n",
    "\n",
    "Converge means that the number is the same to about the number of digits python shows you. Usually the last digit will fluctuate so the maximal convergence would be that all but the last decimal place are constant. \n",
    "\n",
    "Change the number of iterations to explore the behaviour and see how changing the values of $e$ and $M$ affect the convergence."
   ]
  },
  {
   "cell_type": "markdown",
   "metadata": {},
   "source": [
    "**Note that my implementation below is slightly more complicated than what was asked but is a good example of the typical way one solves this problem (using the error bounding).**"
   ]
  },
  {
   "cell_type": "code",
   "execution_count": 56,
   "metadata": {},
   "outputs": [],
   "source": [
    "def func(M, e, n):\n",
    "    '''\n",
    "    Defines the function we want to solve\n",
    "    '''\n",
    "    return M + e * np.sin(n)\n",
    "\n",
    "def solve(M, e):\n",
    "    '''\n",
    "    Iteratively solves the function. Stops when either the solution is as close as we want\n",
    "    based on the error or when we reach max number of iterations. Returns the values of the\n",
    "    solution as well as number of iterations and error at end.\n",
    "    '''\n",
    "    n = M\n",
    "    max_err = 1e-14\n",
    "    err = 1.\n",
    "    max_iter = 1000 # In case the error cannot be bounded so that we do not get infinite loop\n",
    "    \n",
    "    it = 0\n",
    "    while (err > max_err) and (it < max_iter):\n",
    "        n0 = n\n",
    "        n = func(M, e, n)\n",
    "        err = abs(((n0 - n) / n))\n",
    "        \n",
    "        it += 1\n",
    "        \n",
    "    return (n, it, err)"
   ]
  },
  {
   "cell_type": "code",
   "execution_count": 57,
   "metadata": {},
   "outputs": [
    {
     "data": {
      "text/plain": [
       "(1.9055840600847809, 24, 2.7965549407270217e-15)"
      ]
     },
     "execution_count": 57,
     "metadata": {},
     "output_type": "execute_result"
    }
   ],
   "source": [
    "n, it, err = solve(1.15, 0.8)\n",
    "n, it, err"
   ]
  },
  {
   "cell_type": "markdown",
   "metadata": {},
   "source": [
    "### Q1.3 Finding the Roots of and Equation\n",
    "\n",
    "We looked at the bisection root finding method in one of the previous sessions and you were encouraged to implement Newton's method as an assignment. Use either one of the methods in order to complete this question.\n",
    "\n",
    "We want to find the the intersection with the x axis. That is we want to find the value of x when:"
   ]
  },
  {
   "cell_type": "markdown",
   "metadata": {},
   "source": [
    "$$ f(x) = e^{x} \\ln(x) - x^2 = 0 $$ "
   ]
  },
  {
   "cell_type": "markdown",
   "metadata": {},
   "source": [
    "To solve this problem complete the following:"
   ]
  },
  {
   "cell_type": "markdown",
   "metadata": {},
   "source": [
    "**a)** Define a python function, f, that returns the value of f(x) given a value of x."
   ]
  },
  {
   "cell_type": "markdown",
   "metadata": {},
   "source": [
    "**b)** Plot the function to approximate where the 0 of the function is graphically."
   ]
  },
  {
   "cell_type": "markdown",
   "metadata": {},
   "source": [
    "**c)** Use the root finding method of your choice (bisection or Newton) to find the value of the root to machine precision."
   ]
  },
  {
   "cell_type": "code",
   "execution_count": 4,
   "metadata": {},
   "outputs": [],
   "source": [
    "# a)\n",
    "def f(x):\n",
    "    return np.exp(x) * np.log(x) - x**2"
   ]
  },
  {
   "cell_type": "code",
   "execution_count": 5,
   "metadata": {},
   "outputs": [
    {
     "data": {
      "text/plain": [
       "[<matplotlib.lines.Line2D at 0x10b9712e8>]"
      ]
     },
     "execution_count": 5,
     "metadata": {},
     "output_type": "execute_result"
    },
    {
     "data": {
      "image/png": "[encoded data removed]",
      "text/plain": [
       "<matplotlib.figure.Figure at 0x10b918438>"
      ]
     },
     "metadata": {},
     "output_type": "display_data"
    }
   ],
   "source": [
    "# b) We can see below that there is a root in (0.1, 2)\n",
    "x = np.linspace(0.1, 2, 100)\n",
    "plt.plot(x, f(x))"
   ]
  },
  {
   "cell_type": "code",
   "execution_count": 6,
   "metadata": {},
   "outputs": [
    {
     "data": {
      "text/plain": [
       "(1.6946009205035546, 1.6946009205035544)"
      ]
     },
     "execution_count": 6,
     "metadata": {},
     "output_type": "execute_result"
    }
   ],
   "source": [
    "# c) (Bisection)\n",
    "def bisection(interval, func):\n",
    "    a, b = interval\n",
    "    \n",
    "    middle = (a + b) / 2\n",
    "    \n",
    "    f_a = func(a)\n",
    "    f_b = func(b)\n",
    "    f_mid = func(middle)\n",
    "    \n",
    "    if f_mid < 0 and f_a > 0:\n",
    "        return [a, middle]\n",
    "    elif f_mid < 0 and f_a < 0:\n",
    "        return [b, middle]\n",
    "    elif f_mid > 0 and f_a > 0:\n",
    "        return [middle, b]\n",
    "    else:\n",
    "        return [middle, a]\n",
    "    \n",
    "a, b = [0.1, 2]\n",
    "N = 100\n",
    "for i in range(N):\n",
    "    a, b = bisection([a, b], f)\n",
    "\n",
    "# If it converged then these are equal and they are the root\n",
    "a, b"
   ]
  },
  {
   "cell_type": "code",
   "execution_count": 8,
   "metadata": {},
   "outputs": [
    {
     "data": {
      "text/plain": [
       "(-1, 1)"
      ]
     },
     "execution_count": 8,
     "metadata": {},
     "output_type": "execute_result"
    },
    {
     "data": {
      "image/png": "[encoded data removed]",
      "text/plain": [
       "<matplotlib.figure.Figure at 0x10b9ff080>"
      ]
     },
     "metadata": {},
     "output_type": "display_data"
    }
   ],
   "source": [
    "# I can plot this on the graph so you can see where it is.\n",
    "plt.plot(x, f(x))\n",
    "plt.plot(a, 0, 'r*')\n",
    "plt.ylim(-1, 1)"
   ]
  },
  {
   "cell_type": "markdown",
   "metadata": {},
   "source": [
    "## Section 2: Data Analysis"
   ]
  },
  {
   "cell_type": "markdown",
   "metadata": {},
   "source": [
    "### Q2.1 Fitting Data with Error Analysis\n",
    "\n",
    "In this question I will give you some sample data and your job is to find an appropriate fit function, fit the data using scipy least square fit and then analyze RMS error in the best fit curve. \n",
    "\n",
    "We did several examples of this so refer to those notes if you are not sure about the syntax."
   ]
  },
  {
   "cell_type": "code",
   "execution_count": 11,
   "metadata": {},
   "outputs": [],
   "source": [
    "# This is the data you need to fit\n",
    "x = np.array([0., 0.26315789, 0.52631579, 0.78947368, 1.05263158,1.31578947, 1.57894737,\n",
    "              1.84210526, 2.10526316, 2.36842105,2.63157895, 2.89473684, 3.15789474,\n",
    "              3.42105263, 3.68421053,3.94736842, 4.21052632, 4.47368421, 4.73684211, 5.])\n",
    "\n",
    "y = np.array([4.78138162, 2.33131727, 0.97613837, 0.78196249, 0.20193565,\n",
    "              0.34987065, 0.42672317, 0.03884814, 0.34405926, 0.08835883,\n",
    "              0.15117039, 0.44583307, 0.04770623, 0.17592253, 0.41621695,\n",
    "              0.29175142, 0.13319173, 0.06514803, 0.42419519, 0.31615752])"
   ]
  },
  {
   "cell_type": "markdown",
   "metadata": {},
   "source": [
    "Complete the following steps:\n",
    "    \n",
    "**a)** Plot the data as a scatter plot.\n",
    "\n",
    "**b)** Create a function for the best fit curve for the data.\n",
    "\n",
    "**c)** Calculate the RMS error in the best curve."
   ]
  },
  {
   "cell_type": "code",
   "execution_count": 12,
   "metadata": {},
   "outputs": [
    {
     "data": {
      "text/plain": [
       "<matplotlib.collections.PathCollection at 0x10bb697f0>"
      ]
     },
     "execution_count": 12,
     "metadata": {},
     "output_type": "execute_result"
    },
    {
     "data": {
      "image/png": "[encoded data removed]",
      "text/plain": [
       "<matplotlib.figure.Figure at 0x10bba6828>"
      ]
     },
     "metadata": {},
     "output_type": "display_data"
    }
   ],
   "source": [
    "# a)\n",
    "plt.scatter(x, y)"
   ]
  },
  {
   "cell_type": "code",
   "execution_count": 13,
   "metadata": {},
   "outputs": [
    {
     "data": {
      "text/plain": [
       "array([4.5684239 , 3.1131867 , 0.23094671])"
      ]
     },
     "execution_count": 13,
     "metadata": {},
     "output_type": "execute_result"
    },
    {
     "data": {
      "image/png": "[encoded data removed]",
      "text/plain": [
       "<matplotlib.figure.Figure at 0x10bb693c8>"
      ]
     },
     "metadata": {},
     "output_type": "display_data"
    }
   ],
   "source": [
    "# b)\n",
    "def fit_func(p, x):\n",
    "    # Try an exponential decay of most general type\n",
    "    return p[0] * np.exp(-p[1] * x) + p[2]\n",
    "\n",
    "def err_func(p, x, y):\n",
    "    return y - fit_func(p, x)\n",
    "\n",
    "p0 = [1., 1., 1.]\n",
    "p1, success = leastsq(err_func, p0[:], args=(x, y))\n",
    "\n",
    "x_rng = np.linspace(0, 5, 100)\n",
    "plt.plot(x_rng, fit_func(p1, x_rng), color='green')\n",
    "plt.scatter(x, y)\n",
    "p1"
   ]
  },
  {
   "cell_type": "code",
   "execution_count": 15,
   "metadata": {},
   "outputs": [
    {
     "data": {
      "text/plain": [
       "0.14258147244584032"
      ]
     },
     "execution_count": 15,
     "metadata": {},
     "output_type": "execute_result"
    }
   ],
   "source": [
    "# c)\n",
    "def rms_calc(p, x, y):\n",
    "    err = err_func(p, x, y)\n",
    "    err2 = err**2\n",
    "    tot_err2 = np.sum(err2)\n",
    "    return np.sqrt(tot_err2 / len(err2))\n",
    "\n",
    "rms_calc(p1, x, y)"
   ]
  },
  {
   "cell_type": "markdown",
   "metadata": {},
   "source": [
    "## Section 3: Calculus and Linear Algebra"
   ]
  },
  {
   "cell_type": "markdown",
   "metadata": {},
   "source": [
    "### Q3.1 Solving a Matrix Equation\n",
    "\n",
    "Use the linear algebra tools in numpy to solve the following matrix equation:\n",
    "\n",
    "```\n",
    "[[7], = [[2, 5], * [[x],\n",
    " [4]]    [4, 6]]    [y]]\n",
    "```\n",
    "\n",
    "For x and y."
   ]
  },
  {
   "cell_type": "code",
   "execution_count": 87,
   "metadata": {},
   "outputs": [
    {
     "data": {
      "text/plain": [
       "array([[-2.75],\n",
       "       [ 2.5 ]])"
      ]
     },
     "execution_count": 87,
     "metadata": {},
     "output_type": "execute_result"
    }
   ],
   "source": [
    "# Create the matrices\n",
    "v = np.array([[7], [4]])\n",
    "A = np.array([[2, 5], [4, 6]])\n",
    "\n",
    "# Now invert the matrix\n",
    "AI = np.linalg.inv(A)\n",
    "\n",
    "# Now multiply v from the left by the inverted matrix and that is the solution\n",
    "res = AI.dot(v)\n",
    "res"
   ]
  },
  {
   "cell_type": "code",
   "execution_count": 90,
   "metadata": {},
   "outputs": [
    {
     "data": {
      "text/plain": [
       "array([[7.],\n",
       "       [4.]])"
      ]
     },
     "execution_count": 90,
     "metadata": {},
     "output_type": "execute_result"
    }
   ],
   "source": [
    "# Double check that it works (compute RH side)\n",
    "A.dot(res)"
   ]
  },
  {
   "cell_type": "markdown",
   "metadata": {},
   "source": [
    "### Q3.2 Fiding Eigenvalues and Eigenvectors and Checking Orthogonality\n",
    "\n",
    "Find the eigenvalues and eigenvectors of the following $2\\times2$ matrix. Check if the eigenvectors are orthogonal.\n",
    "\n",
    "```\n",
    "[[0, 1],\n",
    " [1, 0]\n",
    "```"
   ]
  },
  {
   "cell_type": "code",
   "execution_count": 92,
   "metadata": {},
   "outputs": [
    {
     "data": {
      "text/plain": [
       "(array([ 1., -1.]), array([[ 0.70710678, -0.70710678],\n",
       "        [ 0.70710678,  0.70710678]]))"
      ]
     },
     "execution_count": 92,
     "metadata": {},
     "output_type": "execute_result"
    }
   ],
   "source": [
    "A = [[0, 1], [1, 0]]\n",
    "\n",
    "# We use the numpy linear algebra module\n",
    "e_val, e_vec = np.linalg.eig(A)\n",
    "\n",
    "e_val, e_vec"
   ]
  },
  {
   "cell_type": "code",
   "execution_count": 93,
   "metadata": {},
   "outputs": [
    {
     "data": {
      "text/plain": [
       "0.0"
      ]
     },
     "execution_count": 93,
     "metadata": {},
     "output_type": "execute_result"
    }
   ],
   "source": [
    "# Checking orthogonality - They are orthogonal if the dot product of the vectors is 0\n",
    "e_vec[0].dot(e_vec[1])"
   ]
  },
  {
   "cell_type": "markdown",
   "metadata": {},
   "source": [
    "### Q3.3 Integration and with Sympy\n",
    "\n",
    "Use Sympy to solve the following double integral:"
   ]
  },
  {
   "cell_type": "markdown",
   "metadata": {},
   "source": [
    "$$ \\int_{0}^{4}\\int_{1}^{\\sqrt{x-1}} y dy dx$$"
   ]
  },
  {
   "cell_type": "code",
   "execution_count": 110,
   "metadata": {},
   "outputs": [
    {
     "data": {
      "image/png": "[encoded data removed]",
      "text/latex": [
       "$$\\int_{0}^{4}\\int_{1}^{\\sqrt{x - 1}} y\\, dy\\, dx$$"
      ],
      "text/plain": [
       "    _______        \n",
       "4 ╲╱ x - 1         \n",
       "⌠     ⌠            \n",
       "⎮     ⎮     y dy dx\n",
       "⌡     ⌡            \n",
       "0     1            "
      ]
     },
     "execution_count": 110,
     "metadata": {},
     "output_type": "execute_result"
    }
   ],
   "source": [
    "sp.init_printing()\n",
    "x, y = sp.symbols(\"x, y\")\n",
    "\n",
    "I1 = sp.Integral(y, (y, 1, sp.sqrt(x-1)))\n",
    "I = sp.Integral(I1, (x, 0, 4))\n",
    "I"
   ]
  },
  {
   "cell_type": "code",
   "execution_count": 111,
   "metadata": {},
   "outputs": [
    {
     "data": {
      "image/png": "[encoded data removed]",
      "text/latex": [
       "$$0$$"
      ],
      "text/plain": [
       "0"
      ]
     },
     "execution_count": 111,
     "metadata": {},
     "output_type": "execute_result"
    }
   ],
   "source": [
    "I.doit()"
   ]
  },
  {
   "cell_type": "markdown",
   "metadata": {},
   "source": [
    "## Section 4: Numerical Integration"
   ]
  },
  {
   "cell_type": "markdown",
   "metadata": {},
   "source": [
    "### Q4.1 Computing Energy Error in Solar System Integration\n",
    "\n",
    "Add to the code we wrote to integrate the solar system to calculate the conservation of energy for the earth. The orbital energy is computed as follows:"
   ]
  },
  {
   "cell_type": "markdown",
   "metadata": {},
   "source": [
    "$$ E = T + U = \\frac{1}{2} m_e v^2 - \\sum_{i = 0, i \\ne e}^{n} \\left( \\frac{Gm_e m_i}{|r_e - r_i|} \\right) $$"
   ]
  },
  {
   "cell_type": "markdown",
   "metadata": {},
   "source": [
    "Where the sum means to sum the effect of the potential from all of the other planets and the sun. "
   ]
  },
  {
   "cell_type": "markdown",
   "metadata": {},
   "source": [
    "To calculate the error, we must do the following:\n",
    "\n",
    "**a)** Before you start the calculation, calculate and store the initial energy of the earth. \n",
    "\n",
    "**b)** Each step of the integration, calculate the energy and then the error, where the error can be calculated as: $(e_n - e_{init}) / e_{init}$ where $e_{init}$ is the initial energy and $e_n$ is the energy on the current step. Store the results in an array so we can analyze it after.\n",
    "\n",
    "**c)** Plot the values of error (from the array you made above) vs the time of the integration. Observe the result and see if you can comment of the physics of it. Try it with different timesteps and with Euler and Leapfrog. Which method is better and what happens when the timestep changes?\n",
    "\n",
    "**d)** Now do it for Mercury instead of Earth. What changes and why? How could we fix this?"
   ]
  },
  {
   "cell_type": "markdown",
   "metadata": {},
   "source": [
    "Solution: First I will copy the code for the numerical integration with the leapfrog method from the lecture notes with some modifications to calculate energy. I will also add some functions to calculate the energy."
   ]
  },
  {
   "cell_type": "code",
   "execution_count": 28,
   "metadata": {},
   "outputs": [
    {
     "data": {
      "image/png": "[encoded data removed]",
      "text/plain": [
       "<matplotlib.figure.Figure at 0x10c9e7630>"
      ]
     },
     "metadata": {},
     "output_type": "display_data"
    }
   ],
   "source": [
    "\"\"\"************************\"\"\"\n",
    "# Solution parts are added below the above type of line\n",
    "# The rest is just copied from the tutorial.\n",
    "\n",
    "# Read Data\n",
    "df = pd.read_csv(\"solar_sys.txt\", sep=\" \")\n",
    "names = np.array(df.name)\n",
    "mi = np.array(df.mass)\n",
    "xi = np.array([[df.x[i], df.y[i], df.z[i]] for i in range(len(df.x))])\n",
    "vi = np.array([[df.vx[i], df.vy[i], df.vz[i]] for i in range(len(df.vx))])\n",
    "\n",
    "\"\"\"************************\"\"\"\n",
    "# Add equation to calculate potential\n",
    "def calc_potential(x1, x2, m1, m2):\n",
    "    G = 6.67384e-20\n",
    "    dx = x1[0] - x2[0]\n",
    "    dy = x1[1] - x2[1]\n",
    "    dz = x1[2] - x2[2]\n",
    "    \n",
    "    r = np.sqrt(dx**2 + dy**2 + dz**2)\n",
    "    return (G*m1*m2) / r\n",
    "\n",
    "\"\"\"************************\"\"\"\n",
    "# Add an equation to calculate the energy\n",
    "def energy_calc(x, v, m, ind):\n",
    "    N = len(x)\n",
    "\n",
    "    v2 = v[ind][0]**2 + v[ind][1]**2 + v[ind][2]**2\n",
    "    T = 0.5 * m[ind] * v2\n",
    "    U = 0.\n",
    "    \n",
    "    for i in range(N):\n",
    "        if i != ind:\n",
    "            U -= calc_potential(x[ind], x[i], m[ind], m[i])\n",
    "            \n",
    "    return T + U\n",
    "\n",
    "\n",
    "# Acceleration Equation\n",
    "def rhs(x1, x2, m2):\n",
    "    G = 6.67384e-20\n",
    "    dx = x1[0] - x2[0]\n",
    "    dy = x1[1] - x2[1]\n",
    "    dz = x1[2] - x2[2]\n",
    "    r2 = dx*dx + dy*dy + dz*dz\n",
    "    return [-G*m2*dx/(r2*np.sqrt(r2)), -G*m2*dy/(r2*np.sqrt(r2)), -G*m2*dz/(r2*np.sqrt(r2))]\n",
    "\n",
    "\n",
    "# Leapfrog integration step\n",
    "def leapfrog_step(x, v, m, rhs, dt):\n",
    "    N = len(x)\n",
    "    for i in range(N):\n",
    "        x[i][0] += v[i][0] * dt/2\n",
    "        x[i][1] += v[i][1] * dt/2\n",
    "        x[i][2] += v[i][2] * dt/2\n",
    "        \n",
    "    for i in range(N):\n",
    "        # Calculate the total acceleration\n",
    "        ax = 0.\n",
    "        ay = 0.\n",
    "        az = 0.\n",
    "        for j in range(N):\n",
    "            if i != j:\n",
    "                a = rhs(x[i], x[j], m[j])\n",
    "                ax += a[0]\n",
    "                ay += a[1]\n",
    "                az += a[2]\n",
    "      \n",
    "        v[i][0] += ax * dt\n",
    "        v[i][1] += ay * dt\n",
    "        v[i][2] += az * dt\n",
    "        \n",
    "    for i in range(N):\n",
    "        x[i][0] += v[i][0] * dt/2\n",
    "        x[i][1] += v[i][1] * dt/2\n",
    "        x[i][2] += v[i][2] * dt/2\n",
    "        \n",
    "        \n",
    "# Integrate the system\n",
    "t = 0.\n",
    "t_max = 10. * 365. * 24. * 60. * 60. # 1 year\n",
    "dt = 1. * 24. * 60. * 60. # 1 day\n",
    "\n",
    "mass = mi.copy()\n",
    "x = xi.copy()\n",
    "v = vi.copy()\n",
    "\n",
    "# We will store x and y components of positions as array:\n",
    "#     x1, x2, x3, x4, ... x9\n",
    "\n",
    "x_res = []\n",
    "y_res = []\n",
    "t_res = []\n",
    "\n",
    "\"\"\"************************\"\"\"\n",
    "# Calculate the Initial Energy of earth (index 3)\n",
    "Ei = energy_calc(x, v, mass, 3)\n",
    "\n",
    "\"\"\"************************\"\"\"\n",
    "# Store the energy error\n",
    "e_err = []\n",
    "\n",
    "while t<t_max:\n",
    "    x_res.append([x[i][0] for i in range(len(x))])\n",
    "    y_res.append([x[i][1] for i in range(len(x))])\n",
    "    t_res.append(t)\n",
    "    \n",
    "    \"\"\"************************\"\"\"\n",
    "    # Calculate the energy and error and store\n",
    "    E = energy_calc(x, v, mass, 3)\n",
    "    e_err.append(abs((E - Ei) / Ei))\n",
    "    \n",
    "    leapfrog_step(x, v, mass, rhs, dt)\n",
    "    t += dt\n",
    "    \n",
    "fig, ax = plt.subplots(1,2, figsize=(20, 10))\n",
    "ax[0].plot(x_res, y_res, '.')\n",
    "ax[0].set_xlim(-4e8, 4e8)\n",
    "ax[0].set_ylim(-4e8, 4e8)\n",
    "\n",
    "ax[1].plot(x_res, y_res, '.')\n",
    "plt.show()"
   ]
  },
  {
   "cell_type": "code",
   "execution_count": 29,
   "metadata": {},
   "outputs": [
    {
     "data": {
      "text/plain": [
       "[<matplotlib.lines.Line2D at 0x10bb2edd8>]"
      ]
     },
     "execution_count": 29,
     "metadata": {},
     "output_type": "execute_result"
    },
    {
     "data": {
      "image/png": "[encoded data removed]",
      "text/plain": [
       "<matplotlib.figure.Figure at 0x10c608080>"
      ]
     },
     "metadata": {},
     "output_type": "display_data"
    }
   ],
   "source": [
    "\"\"\"************************\"\"\"\n",
    "# Plot the error\n",
    "plt.plot(t_res, e_err)"
   ]
  },
  {
   "cell_type": "code",
   "execution_count": null,
   "metadata": {},
   "outputs": [],
   "source": []
  }
 ],
 "metadata": {
  "kernelspec": {
   "display_name": "Python 3",
   "language": "python",
   "name": "python3"
  },
  "language_info": {
   "codemirror_mode": {
    "name": "ipython",
    "version": 3
   },
   "file_extension": ".py",
   "mimetype": "text/x-python",
   "name": "python",
   "nbconvert_exporter": "python",
   "pygments_lexer": "ipython3",
   "version": "3.6.2"
  }
 },
 "nbformat": 4,
 "nbformat_minor": 2
}
