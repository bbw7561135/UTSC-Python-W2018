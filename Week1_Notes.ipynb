{
 "cells": [
  {
   "cell_type": "markdown",
   "metadata": {},
   "source": [
    "# Week 1 Notes - Basic Features of Python\n",
    "## Objects and Types, Variables, Functions, Iteration"
   ]
  },
  {
   "cell_type": "markdown",
   "metadata": {},
   "source": [
    "The goal of the first week is to give a you quick and practical overview of some of the key features we will use in Python. We will go over some things in more detail in future weeks but I want you to really be able to get started using these in the second half of the session today when I let you work on problems. "
   ]
  },
  {
   "cell_type": "markdown",
   "metadata": {},
   "source": [
    "## 1. Obejcts and Types"
   ]
  },
  {
   "cell_type": "markdown",
   "metadata": {},
   "source": [
    "In Python an object is anything that we store in memory (generally). For example, numbers, letters, words etc. are all objects. We care mainly about 4 types of them in this tutorial:\n",
    "\n",
    "1. Integer (int)\n",
    "2. Floating Point (float)\n",
    "3. String (str)\n",
    "4. List (list)"
   ]
  },
  {
   "cell_type": "markdown",
   "metadata": {},
   "source": [
    "** 1. Integer Numbers **\n",
    "\n",
    "Stores an integer number. In Python they are dynamically sized so there is no size limit on them. We will use them often and note that they are different from floating point numbers.\n",
    "\n",
    "** 2. Floating Point Numbers **\n",
    "\n",
    "Stores a number that has decimal values. In Python we use 64-bit floats numbers so we have 16 digits after the decimal place and a range of values of approximately: $\\left(10^{-308},\\ 10^{308}\\right)$. Most of our computations will be done with these. Note that the values are not exact so be careful!\n",
    "\n",
    "For example:"
   ]
  },
  {
   "cell_type": "code",
   "execution_count": 2,
   "metadata": {},
   "outputs": [
    {
     "data": {
      "text/plain": [
       "False"
      ]
     },
     "execution_count": 2,
     "metadata": {},
     "output_type": "execute_result"
    }
   ],
   "source": [
    "(0.2 + 0.1) == 0.3"
   ]
  },
  {
   "cell_type": "markdown",
   "metadata": {},
   "source": [
    "** 3. Strings (str) **\n",
    "\n",
    "A string is an assortment of characters (any valid ASCII characters). A string is surrounded with quotes. We can use singe quotes:\n",
    "```\n",
    "'Hello World!'\n",
    "```\n",
    "Double Quotes:\n",
    "```\n",
    "\"Hello World!\"\n",
    "```\n",
    "Or triple single/double quotes:\n",
    "```\n",
    "\"\"\"Hello World!\"\"\"\n",
    "\n",
    "'''Hello World!'''\n",
    "```\n",
    "\n",
    "We will usually use these when outputing (printing) text to the screen. "
   ]
  },
  {
   "cell_type": "markdown",
   "metadata": {},
   "source": [
    "** 4. Lists (list) **\n",
    "\n",
    "A list is an assortment of other Python objects. In Python, they can contain an assortment of different types of objects, however it is suggested to avoid storing more than one type of object in a list. \n",
    "\n",
    "An example of a list of integers is:\n",
    "```\n",
    "[1, 2, 3]\n",
    "```\n",
    "\n",
    "To access the items in a list, we can **index** it. We start counting from zero and end counting at $n-1$ where $n$ is the length of the list. For example:\n",
    "\n",
    "```\n",
    "[1, 2, 3][0]\n",
    "```\n",
    "Means we are indexing the 0th item of the list and so would have value 1. We will talk more about this in a moment. "
   ]
  },
  {
   "cell_type": "markdown",
   "metadata": {},
   "source": [
    "We will see some other types of objects as we progress each week but for today you will only need the above. "
   ]
  },
  {
   "cell_type": "markdown",
   "metadata": {},
   "source": [
    "## 2. Variables"
   ]
  },
  {
   "cell_type": "markdown",
   "metadata": {},
   "source": [
    "We want to store the values/objects we are working with, so we use variables. In Python this is very simple. We just write an equality such as:\n",
    "```Python\n",
    "my_var = 1\n",
    "```\n",
    "Where `my_var` is what I am defining as the name of the variable and 1 is the value (an integer). Note the value always goes on the RHS and the variable being assigned the value on the LHS.\n",
    "\n",
    "Variables can have any name but try to make the names meaningful. For example if I was keeping track of the total people in this room, names such as `total` or even `total_people` are much better than names such as `a` or `var`."
   ]
  },
  {
   "cell_type": "markdown",
   "metadata": {},
   "source": [
    "Variables can store any type of data we want. Let's try an example with a list:"
   ]
  },
  {
   "cell_type": "code",
   "execution_count": 4,
   "metadata": {},
   "outputs": [],
   "source": [
    "# Store a list to a variable\n",
    "my_lst = [1.2, 3.4, 5.1, 2.1]"
   ]
  },
  {
   "cell_type": "code",
   "execution_count": 6,
   "metadata": {},
   "outputs": [
    {
     "data": {
      "text/plain": [
       "3.4"
      ]
     },
     "execution_count": 6,
     "metadata": {},
     "output_type": "execute_result"
    }
   ],
   "source": [
    "# Get the first element\n",
    "my_lst[1]"
   ]
  },
  {
   "cell_type": "code",
   "execution_count": 7,
   "metadata": {},
   "outputs": [],
   "source": [
    "# Add the second and third elements together and multiply by the 0th. \n",
    "# Assign to new variable\n",
    "total = (my_lst[2] + my_lst[3]) * my_lst[0] "
   ]
  },
  {
   "cell_type": "code",
   "execution_count": 8,
   "metadata": {},
   "outputs": [
    {
     "data": {
      "text/plain": [
       "8.639999999999999"
      ]
     },
     "execution_count": 8,
     "metadata": {},
     "output_type": "execute_result"
    }
   ],
   "source": [
    "total"
   ]
  },
  {
   "cell_type": "markdown",
   "metadata": {},
   "source": [
    "We see from the above how list indexing works a bit better. We also see that we can assing a variable the value of other variables. Note that Python **evaluates** the RHS first and then stores the result to the variable. "
   ]
  },
  {
   "cell_type": "markdown",
   "metadata": {},
   "source": [
    "Lets see one more example to see how 2D arrays (matrices) work. We will use these later."
   ]
  },
  {
   "cell_type": "code",
   "execution_count": 9,
   "metadata": {},
   "outputs": [],
   "source": [
    "# A matrix is a list of lists\n",
    "matrix = [[1, 2], [3, 4]] "
   ]
  },
  {
   "cell_type": "code",
   "execution_count": 10,
   "metadata": {},
   "outputs": [
    {
     "data": {
      "text/plain": [
       "2"
      ]
     },
     "execution_count": 10,
     "metadata": {},
     "output_type": "execute_result"
    }
   ],
   "source": [
    "# Make sure you can understand what this is doing\n",
    "matrix[0][1]"
   ]
  },
  {
   "cell_type": "markdown",
   "metadata": {},
   "source": [
    "You will get a chance to practice and think about this later so I will leave it at that for variables today. We will cover more details next week after you have some practice."
   ]
  },
  {
   "cell_type": "markdown",
   "metadata": {},
   "source": [
    "## 3. Functions"
   ]
  },
  {
   "cell_type": "markdown",
   "metadata": {},
   "source": [
    "Quite often we want to be able to do a task over an over. We also want to be able to keep parts of our code that do different things separated. This is where functions come in. Python functions behave much like mathematical functions so we will start from there."
   ]
  },
  {
   "cell_type": "markdown",
   "metadata": {},
   "source": [
    "Consider the simple mathematical function:\n",
    "\n",
    "$$ f(x, y) = x^2 + y^2 $$\n",
    "\n",
    "Let's write this in Python to see how we structure a function."
   ]
  },
  {
   "cell_type": "code",
   "execution_count": 44,
   "metadata": {},
   "outputs": [],
   "source": [
    "def f(x, y):\n",
    "    return x**2 + y**2"
   ]
  },
  {
   "cell_type": "code",
   "execution_count": 46,
   "metadata": {},
   "outputs": [
    {
     "data": {
      "text/plain": [
       "13"
      ]
     },
     "execution_count": 46,
     "metadata": {},
     "output_type": "execute_result"
    }
   ],
   "source": [
    "# Using the function. We call it by passing some parameters.\n",
    "f(2, 3)"
   ]
  },
  {
   "cell_type": "markdown",
   "metadata": {},
   "source": [
    "So as we see, mathematical functions translate very well into Python functions.\n",
    "\n",
    "The basic idea is that a function takes in some data the parameters, and then does something with it and returns something new. \n",
    "\n",
    "Note that returning a value is not needed and that the parameters can be blank. \n",
    "\n",
    "We will see many examples of functions of various complexities so be sure you are confident with the format of it. In particular, it is important to note that a function should behave like a black box. You give it data in, and it gives you data back out. You shouldn't need to know **how** it does what it does to to use it. This will become clear shortly. "
   ]
  },
  {
   "cell_type": "markdown",
   "metadata": {},
   "source": [
    "## Iteration"
   ]
  },
  {
   "cell_type": "markdown",
   "metadata": {},
   "source": [
    "Quite often we want to go through a list of items or perform a task a certain number of times. This is where loops come in. There are a couple of types of loops in Python, but today we will just go over the most basic type which is shared amongst (almost) all programming languages. You will later see the other types are just an extension of what we are doing here.\n",
    "\n",
    "We will need to use these in all the exercises today so you will hopefully feel confident using them by the end of the session. \n",
    "\n",
    "The basic type of loop is called the for loop. Before we define it, let's talk about a builtin Python function called `range()`:"
   ]
  },
  {
   "cell_type": "code",
   "execution_count": 48,
   "metadata": {},
   "outputs": [
    {
     "data": {
      "text/plain": [
       "[0, 1, 2, 3]"
      ]
     },
     "execution_count": 48,
     "metadata": {},
     "output_type": "execute_result"
    }
   ],
   "source": [
    "# Examples of using range()\n",
    "\n",
    "# 1 Parameter\n",
    "list(range(4)) # range(n)"
   ]
  },
  {
   "cell_type": "code",
   "execution_count": 49,
   "metadata": {},
   "outputs": [
    {
     "data": {
      "text/plain": [
       "[1, 2, 3, 4]"
      ]
     },
     "execution_count": 49,
     "metadata": {},
     "output_type": "execute_result"
    }
   ],
   "source": [
    "# 2 Parameters\n",
    "list(range(1, 5)) # range(m, n)"
   ]
  },
  {
   "cell_type": "code",
   "execution_count": 50,
   "metadata": {},
   "outputs": [
    {
     "data": {
      "text/plain": [
       "[0, 2, 4, 6, 8]"
      ]
     },
     "execution_count": 50,
     "metadata": {},
     "output_type": "execute_result"
    }
   ],
   "source": [
    "# 3 Parameters\n",
    "list(range(0, 10, 2)) # range(m, n, i)"
   ]
  },
  {
   "cell_type": "markdown",
   "metadata": {},
   "source": [
    "The range function gives us a list of integers. If we specify only:\n",
    "- 1 Parameter: counts from 0 to $n-1$\n",
    "- 2 Parameters: counts from $m$ to $n-1$\n",
    "- 3 Parameters: counts from $m$ to $n-1$ in increments of $i$. \n",
    "\n",
    "Hopefully you already see how this could have a connection with the indexes in a list. Let's try implementing a for loop with this now. "
   ]
  },
  {
   "cell_type": "code",
   "execution_count": 51,
   "metadata": {},
   "outputs": [
    {
     "name": "stdout",
     "output_type": "stream",
     "text": [
      "0\n",
      "1\n",
      "2\n",
      "3\n",
      "4\n",
      "5\n",
      "6\n",
      "7\n",
      "8\n",
      "9\n"
     ]
    }
   ],
   "source": [
    "# A basic for loop to print out the numbers 0 to 9\n",
    "\n",
    "for i in range(10):\n",
    "    print(i)"
   ]
  },
  {
   "cell_type": "markdown",
   "metadata": {},
   "source": [
    "In the above example, i is just a variable name I have given to the numbers. Then the for loop goes through the list from the `range()` function one item at a time, assigns that item to i and then executes the code. We can do as many operations as we want inside the loop but it will do the same thing for each i. \n",
    "\n",
    "Let's see an example of combining what we know about functions and for loops to write a function that sums a list."
   ]
  },
  {
   "cell_type": "code",
   "execution_count": 52,
   "metadata": {},
   "outputs": [],
   "source": [
    "def sum_lst(lst):\n",
    "    # It is very common to start by creating some \"blank\" variable\n",
    "    # This could be a 0 integer, 0 float, or empty list. \n",
    "    # We will then \"build\" the value of this step by step.\n",
    "    total = 0\n",
    "    \n",
    "    # Notice the use of len() to get the length of the list\n",
    "    for i in range(len(lst)):\n",
    "        total += lst[i]    # Note that total += lst[i] <--> total = total + lst[i]\n",
    "        \n",
    "    return total"
   ]
  },
  {
   "cell_type": "code",
   "execution_count": 53,
   "metadata": {},
   "outputs": [
    {
     "data": {
      "text/plain": [
       "9"
      ]
     },
     "execution_count": 53,
     "metadata": {},
     "output_type": "execute_result"
    }
   ],
   "source": [
    "# And we test it\n",
    "my_lst = [1, 5, 3]\n",
    "sum_lst(my_lst)"
   ]
  },
  {
   "cell_type": "markdown",
   "metadata": {},
   "source": [
    "Consider also how we can use for loops for a 2D array (matrix):"
   ]
  },
  {
   "cell_type": "code",
   "execution_count": 54,
   "metadata": {},
   "outputs": [
    {
     "name": "stdout",
     "output_type": "stream",
     "text": [
      "1\n",
      "2\n",
      "3\n",
      "4\n"
     ]
    }
   ],
   "source": [
    "matrix = [[1, 2], \n",
    "          [3, 4]]\n",
    "\n",
    "for i in range(len(matrix)):\n",
    "    for j in range(len(matrix[i])):\n",
    "        print(matrix[i][j])"
   ]
  },
  {
   "cell_type": "markdown",
   "metadata": {},
   "source": [
    "Or for a more complicated example, let's make a function that sums up all the elements in a matrix:"
   ]
  },
  {
   "cell_type": "code",
   "execution_count": 55,
   "metadata": {},
   "outputs": [
    {
     "data": {
      "text/plain": [
       "10.0"
      ]
     },
     "execution_count": 55,
     "metadata": {},
     "output_type": "execute_result"
    }
   ],
   "source": [
    "def matrix_sum(matrix):\n",
    "    total = 0.\n",
    "    \n",
    "    for i in range(len(matrix)):\n",
    "        for j in range(len(matrix[i])):\n",
    "            total += matrix[i][j]\n",
    "            \n",
    "    return total\n",
    "\n",
    "\n",
    "matrix_sum(matrix)"
   ]
  },
  {
   "cell_type": "code",
   "execution_count": null,
   "metadata": {},
   "outputs": [],
   "source": []
  }
 ],
 "metadata": {
  "kernelspec": {
   "display_name": "Python 3",
   "language": "python",
   "name": "python3"
  },
  "language_info": {
   "codemirror_mode": {
    "name": "ipython",
    "version": 3
   },
   "file_extension": ".py",
   "mimetype": "text/x-python",
   "name": "python",
   "nbconvert_exporter": "python",
   "pygments_lexer": "ipython3",
   "version": "3.6.2"
  }
 },
 "nbformat": 4,
 "nbformat_minor": 2
}
