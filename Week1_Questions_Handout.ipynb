{
 "cells": [
  {
   "cell_type": "markdown",
   "metadata": {},
   "source": [
    "# UTSC Python for Physics: Week 1"
   ]
  },
  {
   "cell_type": "markdown",
   "metadata": {},
   "source": [
    "## Question 1: Dot Product"
   ]
  },
  {
   "cell_type": "markdown",
   "metadata": {},
   "source": [
    "Write a function that takes in two vectors as Python lists and returns a float representing the scalar (dot) product of the vectors. This should work for any two $n$ dimension vectors. \n",
    "\n",
    "Hint: If you are having trouble, try coding it manually for 2 or 3 dimensions and then generalizing it with a loop."
   ]
  },
  {
   "cell_type": "code",
   "execution_count": 1,
   "metadata": {},
   "outputs": [],
   "source": [
    "def dot_product(a, b):\n",
    "    \"\"\"\n",
    "    (list of float, list of float) -> float\n",
    "    Take the product a dot b and return\n",
    "    The value as a floating point.\n",
    "    \"\"\""
   ]
  },
  {
   "cell_type": "markdown",
   "metadata": {},
   "source": [
    "## Question 2: Multiply Matrix by Vector"
   ]
  },
  {
   "cell_type": "markdown",
   "metadata": {},
   "source": [
    "Write a function that takes an $n-$element vector, `a` (as list) and a $m \\times n$ matrix, `A` (as list of list) and returns the result of $A \\cdot a$ (an $m$ element vector).\n",
    "\n",
    "This should work in general for any $n$ and $m$. You may use your dot_product function if you think it would be helpful. "
   ]
  },
  {
   "cell_type": "code",
   "execution_count": 2,
   "metadata": {},
   "outputs": [],
   "source": [
    "def mat_vec(a, A):\n",
    "    \"\"\"\n",
    "    (list of float, list of list) -> list of float\n",
    "    Perform the operation Aa and return the resultant vector\n",
    "    as a Python list.\n",
    "    \"\"\""
   ]
  },
  {
   "cell_type": "markdown",
   "metadata": {},
   "source": [
    "## Question 3: Transpose Matrix"
   ]
  },
  {
   "cell_type": "markdown",
   "metadata": {},
   "source": [
    "Write a function that takes in an $n \\times n$ matrix `A` (as list of list), and return the transpose of the matrix. Here is an example:\n",
    "\n",
    "```\n",
    "A = [[1, 2],    -->    [[1, 3],\n",
    "     [3, 4]]            [2, 4]]\n",
    "```"
   ]
  },
  {
   "cell_type": "code",
   "execution_count": 3,
   "metadata": {},
   "outputs": [],
   "source": [
    "def transpose(A):\n",
    "    \"\"\"\n",
    "    (list of list) -> list of list\n",
    "    Given a matrix A, return a new matrix which is the transpose of A.\n",
    "    \"\"\""
   ]
  },
  {
   "cell_type": "markdown",
   "metadata": {},
   "source": [
    "## Question 4: Matrix Multiply"
   ]
  },
  {
   "cell_type": "markdown",
   "metadata": {},
   "source": [
    "Write a function that takes in two $n \\times n$ matrices, A and B and returns an $n \\times n$ matrix that is the product, AB. \n",
    "\n",
    "Hint: Try to use the transpose function and the dot_product function to simplify the computation."
   ]
  },
  {
   "cell_type": "code",
   "execution_count": 4,
   "metadata": {},
   "outputs": [],
   "source": [
    "def matrix_multiply(A, B):\n",
    "    \"\"\"\n",
    "    (list of list, list of list) -> list of list\n",
    "    Given two matrices, return a new matrix that is\n",
    "    the product of the two, AB.\n",
    "    \"\"\""
   ]
  },
  {
   "cell_type": "markdown",
   "metadata": {},
   "source": [
    "## Question 5: Product of Matrices multiplied by a Vector"
   ]
  },
  {
   "cell_type": "markdown",
   "metadata": {},
   "source": [
    "If you finished the above functions, this one should be easy. Take in two matrices, `A` and `B`, and a vector, `a`, and compute: $(A \\cdot B)a$.\n",
    "\n",
    "Challenge: Complete this function in 1 line only."
   ]
  },
  {
   "cell_type": "code",
   "execution_count": null,
   "metadata": {},
   "outputs": [],
   "source": [
    "def matrix_2_vector(A, B, a):\n",
    "    \"\"\"\n",
    "    (list of list, list of list, list of float) -> list of list\n",
    "    \"\"\""
   ]
  },
  {
   "cell_type": "markdown",
   "metadata": {},
   "source": [
    "**Bonus:** If you have extra time, think of other matrix or vector operations that could be useful and try to implement them. For example, try $a \\cdot A$ or $a(A \\cdot B)b$. "
   ]
  }
 ],
 "metadata": {
  "kernelspec": {
   "display_name": "Python 3",
   "language": "python",
   "name": "python3"
  },
  "language_info": {
   "codemirror_mode": {
    "name": "ipython",
    "version": 3
   },
   "file_extension": ".py",
   "mimetype": "text/x-python",
   "name": "python",
   "nbconvert_exporter": "python",
   "pygments_lexer": "ipython3",
   "version": "3.6.2"
  }
 },
 "nbformat": 4,
 "nbformat_minor": 2
}
