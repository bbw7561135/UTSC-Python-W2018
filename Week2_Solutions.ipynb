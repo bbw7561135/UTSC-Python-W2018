{
 "cells": [
  {
   "cell_type": "markdown",
   "metadata": {},
   "source": [
    "# Problem Set: Week 2"
   ]
  },
  {
   "cell_type": "code",
   "execution_count": 4,
   "metadata": {},
   "outputs": [],
   "source": [
    "# Start your problem set by importing the following if you haven't already\n",
    "import numpy as np\n",
    "import matplotlib.pyplot as plt\n",
    "%matplotlib inline"
   ]
  },
  {
   "cell_type": "markdown",
   "metadata": {},
   "source": [
    "## Q1: Boolean Search Result List"
   ]
  },
  {
   "cell_type": "code",
   "execution_count": 9,
   "metadata": {},
   "outputs": [
    {
     "data": {
      "text/plain": [
       "array([ 0.,  1.,  0.,  1.])"
      ]
     },
     "execution_count": 9,
     "metadata": {},
     "output_type": "execute_result"
    }
   ],
   "source": [
    "def boolean_list(arr1, arr2, barr):\n",
    "    \"\"\"(np.array, np.array, np.array) -> None \n",
    "    Given 3 np arrays, for each value in the first one, if the value is\n",
    "    also in the second one (but not necesarrily at the same spot) change\n",
    "    the value of barr at the index of the first array from 0 -> 1. \n",
    "    \n",
    "    Assume that barr is originally all zeros. arr1 and arr2 may have different lenths\n",
    "    but barr should have the same length as arr1.\n",
    "    \n",
    "    This function should not return anything. It should modify the array barr. \n",
    "    It should not modify arr1 or arr2.\n",
    "    \n",
    "    Examples:\n",
    "    >>> arr1 = np.array([5, 2, 3, 6])\n",
    "    >>> arr2 = np.array([6, 2, 9])\n",
    "    >>> barr = np.zeros(len(arr1))\n",
    "    >>> boolean_list(arr1, arr2, barr)\n",
    "    >>> barr\n",
    "    np.array([0, 1, 0, 1])\n",
    "    \"\"\"\n",
    "    for i in range(len(arr1)):\n",
    "        for j in range(len(arr2)):\n",
    "            if arr1[i] == arr2[j]:\n",
    "                barr[i] = 1\n",
    "    \n",
    "    \n",
    "arr1 = np.array([5, 2, 3, 6])\n",
    "arr2 = np.array([6, 2, 9])\n",
    "barr = np.zeros(len(arr1))\n",
    "boolean_list(arr1, arr2, barr)\n",
    "barr "
   ]
  },
  {
   "cell_type": "markdown",
   "metadata": {},
   "source": [
    "## Q2: Linear Equations and Fitting Data\n",
    "\n",
    "### Part 1:\n",
    "In this question, we will manually calculate the parameters for a linear least square fit (for a straight line). Don't worry if you don't fully understand the math, just work through the coding parts of the questions. All the necessary mathematics/formula are given, you just have to convert them to code.\n",
    "\n",
    "In matrix notation, the equation for the best fit line of a function in terms of two paraemters, $m$ and $b$ when we have measured $n$ data points is:\n",
    "\n",
    "$$\n",
    "\\begin{bmatrix}\n",
    "    y_1 \\\\\n",
    "    y_2\n",
    "\\end{bmatrix}\n",
    "= \n",
    "\\begin{bmatrix}\n",
    "    1 & x_1 \\\\\n",
    "    1 & x_2\n",
    "\\end{bmatrix}\n",
    "\\begin{bmatrix}\n",
    "    b \\\\\n",
    "    m\n",
    "\\end{bmatrix}\n",
    "$$\n",
    "\n",
    "To solve this matrix equation we must solve the expression:\n",
    "\n",
    "$$ \n",
    "\\begin{bmatrix}\n",
    "    b \\\\\n",
    "    m\n",
    "\\end{bmatrix}\n",
    " = (X^T X)^{-1} X^T \n",
    " \\begin{bmatrix}\n",
    "    y_1 \\\\\n",
    "    y_2\n",
    "\\end{bmatrix}\n",
    "$$\n",
    "\n",
    "Where X is the matrix of measured values and ones shown above and $y_1$, $y_2$ are the measured y values.\n",
    "\n",
    "Write a function that takes in the matrix and the vector and returns a list [b, m]. You should use numpy functions to perform the operations on the matrix since operations such as inverse are fairly difficult to code by hand."
   ]
  },
  {
   "cell_type": "code",
   "execution_count": 55,
   "metadata": {},
   "outputs": [
    {
     "data": {
      "text/plain": [
       "(-0.80921806538588004, 3.1649814627569866)"
      ]
     },
     "execution_count": 55,
     "metadata": {},
     "output_type": "execute_result"
    }
   ],
   "source": [
    "def find_params(X, y):\n",
    "    \"\"\"\n",
    "    Solve the matrix equation listed above and return a list: [b, m]\n",
    "    \"\"\"\n",
    "    xt = X.T\n",
    "    xtXinv_xt = np.linalg.inv(xt @ X) @ xt\n",
    "    return xtXinv_xt.dot(y)\n",
    "    \n",
    "    \n",
    "# Once you have written the function, text it with this matrix and vector. \n",
    "# Store the value b and m as a variable for the next step.\n",
    "x = [3.2, 6.7, 2.3, 5.2, 4.7]\n",
    "X = np.array([[1, i] for i in x])\n",
    "y = np.array([8.4, 20.3, 7.1, 16.3, 13.8])\n",
    "\n",
    "b, m = find_params(X, y)\n",
    "b, m"
   ]
  },
  {
   "cell_type": "markdown",
   "metadata": {},
   "source": [
    "### Part 2:\n",
    "\n",
    "Now that you have the values $b$ and $m$, write the following in Python as a function of $b$, $m$ and $x$.\n",
    "\n",
    "$$ f(x, b, m) = mx + b $$"
   ]
  },
  {
   "cell_type": "code",
   "execution_count": 56,
   "metadata": {},
   "outputs": [],
   "source": [
    "# Write the function as a Python function like \n",
    "# we did when we did when we did root finding.\n",
    "def f(x, b, m):\n",
    "    return m*x + b"
   ]
  },
  {
   "cell_type": "markdown",
   "metadata": {},
   "source": [
    "Finally, we want to plot our \"data\" and the fit we just manually calculated. I have given you the scatter plot of the \"data\", now add to it a plot that plots some x values vs the fit function you just created at those values. \n",
    "\n",
    "Hint: Use np.linspace(...) to generate your x values."
   ]
  },
  {
   "cell_type": "code",
   "execution_count": 57,
   "metadata": {},
   "outputs": [
    {
     "data": {
      "text/plain": [
       "[<matplotlib.lines.Line2D at 0x10b3b0748>]"
      ]
     },
     "execution_count": 57,
     "metadata": {},
     "output_type": "execute_result"
    },
    {
     "data": {
      "image/png": "[encoded data removed]",
      "text/plain": [
       "<matplotlib.figure.Figure at 0x10af6cc50>"
      ]
     },
     "metadata": {},
     "output_type": "display_data"
    }
   ],
   "source": [
    "x_rng = np.linspace(0, 10, 100)\n",
    "\n",
    "# Starter code to make the plot\n",
    "fig, ax = plt.subplots()\n",
    "ax.scatter(x, Y)\n",
    "ax.plot(x_rng, f(x_rng, b, m), 'g')"
   ]
  },
  {
   "cell_type": "markdown",
   "metadata": {},
   "source": [
    "## Q3: Numerical Derivatives\n",
    "\n",
    "### Part 1:\n",
    "\n",
    "Define a function, F, of which you will later take the numerical derivative. You can make it any function you want but I suggest you start with something simple. My solution, posted later will be for $F(x) = x^2$ as we used in the root finding method so you can start with that and try changing it after."
   ]
  },
  {
   "cell_type": "code",
   "execution_count": 51,
   "metadata": {},
   "outputs": [],
   "source": [
    "### Define your function\n",
    "def F(x):\n",
    "    return x**2"
   ]
  },
  {
   "cell_type": "markdown",
   "metadata": {},
   "source": [
    "### Part 2:\n",
    "\n",
    "Now write a function that takes in your function above, the point we are evaluating at and the \"time step\" $h$ and calculate the **numerical** derivative.\n",
    "\n",
    "In mathematical terms, we want a numerical solution for:\n",
    "\n",
    "$$ \\left(\\frac{\\mathop{d}}{\\mathop{dx}} F(x)\\right)_{x = a} $$\n",
    "\n",
    "Hint: Recall the formalism of the derivative in terms of limits from first year calculus (ie MATA30 or equivalent). Solve this for small $h$ instead of the limit as it goes to 0."
   ]
  },
  {
   "cell_type": "code",
   "execution_count": 52,
   "metadata": {},
   "outputs": [],
   "source": [
    "def deriv(F, a, h):\n",
    "    \"\"\"\n",
    "    Calculate the numerical derivative of F(x) evaluated at a.\n",
    "    \"\"\"\n",
    "    return (F(a + h) - F(a)) / h"
   ]
  },
  {
   "cell_type": "markdown",
   "metadata": {},
   "source": [
    "### Part 3:\n",
    "\n",
    "Now take the numerical derivative at a point and plot it along with the function itself to show it is indeed tangent to the curve at that point. Take different values of h to see how the line changes."
   ]
  },
  {
   "cell_type": "code",
   "execution_count": 54,
   "metadata": {},
   "outputs": [
    {
     "data": {
      "text/plain": [
       "[<matplotlib.lines.Line2D at 0x10af8ba90>]"
      ]
     },
     "execution_count": 54,
     "metadata": {},
     "output_type": "execute_result"
    },
    {
     "data": {
      "image/png": "[encoded data removed]",
      "text/plain": [
       "<matplotlib.figure.Figure at 0x10ac8ec50>"
      ]
     },
     "metadata": {},
     "output_type": "display_data"
    }
   ],
   "source": [
    "def deriv_plot(F, x, slope, a):\n",
    "    \"\"\"\n",
    "    Given that the slope is evaluated at a, plot it\n",
    "    tangentially at this point.\n",
    "    \"\"\"\n",
    "    b = - F(a)\n",
    "    return slope*x + b\n",
    "\n",
    "a = 2\n",
    "h = 0.0001\n",
    "slope2 = deriv(F, a, h)\n",
    "\n",
    "\n",
    "x = np.linspace(-4, 4, 100)\n",
    "y = F(x)\n",
    "\n",
    "fig, ax = plt.subplots()\n",
    "ax.plot(x, y)\n",
    "ax.plot(x, deriv_plot(F, x, slope2, a))"
   ]
  },
  {
   "cell_type": "markdown",
   "metadata": {},
   "source": [
    "### Bonus (Part 4):\n",
    "\n",
    "If you want an extra challenge, use your numerical derivative method above to improve the bisection method by taking the interpolated derivative instead of the actual midpoint. This then becomes Newton's Method (which you have seen in calculus). Compare the error at different numbers of iterations to see that it does converge faster. "
   ]
  },
  {
   "cell_type": "code",
   "execution_count": null,
   "metadata": {},
   "outputs": [],
   "source": []
  }
 ],
 "metadata": {
  "kernelspec": {
   "display_name": "Python 3",
   "language": "python",
   "name": "python3"
  },
  "language_info": {
   "codemirror_mode": {
    "name": "ipython",
    "version": 3
   },
   "file_extension": ".py",
   "mimetype": "text/x-python",
   "name": "python",
   "nbconvert_exporter": "python",
   "pygments_lexer": "ipython3",
   "version": "3.6.2"
  }
 },
 "nbformat": 4,
 "nbformat_minor": 2
}
